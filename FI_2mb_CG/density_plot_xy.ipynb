{
 "cells": [
  {
   "cell_type": "code",
   "execution_count": 1,
   "metadata": {},
   "outputs": [],
   "source": [
    "import mdtraj as md\n",
    "import numpy as np\n",
    "import os\n",
    "from matplotlib import pyplot as plt"
   ]
  },
  {
   "cell_type": "code",
   "execution_count": 2,
   "metadata": {},
   "outputs": [
    {
     "name": "stderr",
     "output_type": "stream",
     "text": [
      "/Users/ruisu/opt/anaconda3/lib/python3.8/site-packages/pandas/core/indexing.py:966: SettingWithCopyWarning: \n",
      "A value is trying to be set on a copy of a slice from a DataFrame.\n",
      "Try using .loc[row_indexer,col_indexer] = value instead\n",
      "\n",
      "See the caveats in the documentation: https://pandas.pydata.org/pandas-docs/stable/user_guide/indexing.html#returning-a-view-versus-a-copy\n",
      "  self.obj[item] = s\n"
     ]
    }
   ],
   "source": [
    "xy_fp_nhelix_rotate_10 = np.zeros((10, 2001, 75, 2))\n",
    "xyz_origin_10 = np.zeros((10, 2001, 3792, 3))\n",
    "xyz_rotate1_10 = np.zeros((10, 2001, 3792, 3))\n",
    "xy_fp_nhelix_rotate_10 = np.zeros((10, 2001, 75, 2))\n",
    "for i in range(10):\n",
    "    path = 'run%d/'%(i+1)\n",
    "    traj = md.load_xtc('%ssys_hydro_run_promb.xtc'%path, top = 'promb.gro')\n",
    "    xyz = traj.xyz\n",
    "    top = traj.topology\n",
    "    table, bonds = top.to_dataframe()\n",
    "    table_pro = table[table.resName!='DPPC']\n",
    "    xyz_pro = xyz[:,table.resName!='DPPC',:]\n",
    "    chain_start = table_pro[table_pro.resSeq==1]['serial'].values[::2]\n",
    "    chain_end = np.append(chain_start[1:]-1, table_pro['serial'].values[-1])\n",
    "    \n",
    "    for k in range(6):\n",
    "        table_pro.loc[(table_pro.serial>=chain_start[k])&(table_pro.serial<=chain_end[k]),'chainID'] = i+1\n",
    "        if(k<3):\n",
    "            table_pro.loc[(table_pro.serial>=chain_start[k])&(table_pro.serial<=chain_end[k]),'resSeq'] = table_pro['resSeq'][(table_pro.serial>=chain_start[k])&(table_pro.serial<=chain_end[k])].values + 815\n",
    "        else:\n",
    "            table_pro.loc[(table_pro.serial>=chain_start[k])&(table_pro.serial<=chain_end[k]),'resSeq'] = table_pro['resSeq'][(table_pro.serial>=chain_start[k])&(table_pro.serial<=chain_end[k])].values + 685\n",
    "    \n",
    "    xyz_origin_10[i,:,:,:] = xyz_pro.copy()\n",
    "    \n",
    "    xy_fp_nhelix_rotate = np.zeros((2001, 75, 2))\n",
    "    for j in range(2001):\n",
    "\n",
    "        frame_num = j\n",
    "        select0 = (table_pro.resSeq>=912)&(table_pro.resSeq<=984)\n",
    "        select1 = (table_pro.resSeq>=816)&(table_pro.resSeq<=984)\n",
    "        select2 = (table_pro.resSeq>=816)&(table_pro.resSeq<=855)\n",
    "        select3 = (table_pro.resSeq>=816)&(table_pro.resSeq<=825)\n",
    "\n",
    "        points_data1 = xyz_pro[frame_num,select1,:].T\n",
    "        covMatrix1 = np.cov(points_data1)\n",
    "        a1,b1 = np.linalg.eigh(covMatrix1)\n",
    "\n",
    "        x_fit = xyz_pro[frame_num,:,0] - np.mean(xyz_pro[frame_num,select0,0])\n",
    "        y_fit = xyz_pro[frame_num,:,1] - np.mean(xyz_pro[frame_num,select0,1])\n",
    "        z_fit = xyz_pro[frame_num,:,2] - np.mean(xyz_pro[frame_num,select0,2])\n",
    "\n",
    "        xyz_fit_rotate = np.dot(b1.T, [x_fit, y_fit, z_fit])\n",
    "        xyz_rotate1_10[i,j,:,:] = xyz_fit_rotate.T\n",
    "        \n",
    "        x_nhelix = xyz_fit_rotate[0,select3]\n",
    "        y_nhelix = xyz_fit_rotate[1,select3]\n",
    "        points_data2 = [x_nhelix, y_nhelix]\n",
    "        covMatrix2 = np.cov(points_data2)\n",
    "        a2,b2 = np.linalg.eigh(covMatrix2)\n",
    "\n",
    "        temp = np.dot(b2.T, points_data2)\n",
    "        if(np.sum(temp[1,:]>0) > np.sum(temp[1,:]<0)):\n",
    "            temp[1,:] = -temp[1,:]\n",
    "\n",
    "        xy_fp_nhelix_rotate[j,:,:] = temp.T\n",
    "    \n",
    "    xy_fp_nhelix_rotate_10[i,:,:,:] = xy_fp_nhelix_rotate"
   ]
  },
  {
   "cell_type": "code",
   "execution_count": 3,
   "metadata": {},
   "outputs": [],
   "source": [
    "select4 = (table_pro.resSeq>=826)&(table_pro.resSeq<=911)"
   ]
  },
  {
   "cell_type": "code",
   "execution_count": 4,
   "metadata": {},
   "outputs": [],
   "source": [
    "plt.rcParams['font.family'] = \"Helvetica\"\n",
    "plt.rcParams['axes.linewidth'] = 2\n",
    "plt.rcParams['axes.labelsize'] = 28\n",
    "plt.rcParams['xtick.labelsize'] = 20\n",
    "plt.rcParams['ytick.labelsize'] = 20\n",
    "plt.rcParams['xtick.major.width'] = 2\n",
    "plt.rcParams['ytick.major.width'] = 2\n",
    "plt.rcParams['figure.titlesize'] = 32"
   ]
  },
  {
   "cell_type": "code",
   "execution_count": 29,
   "metadata": {},
   "outputs": [
    {
     "data": {
      "text/plain": [
       "Text(0, 0.5, 'prob. density')"
      ]
     },
     "execution_count": 29,
     "metadata": {},
     "output_type": "execute_result"
    },
    {
     "data": {
      "image/png": "[encoded data removed]",
      "text/plain": [
       "<Figure size 432x288 with 1 Axes>"
      ]
     },
     "metadata": {
      "needs_background": "light"
     },
     "output_type": "display_data"
    }
   ],
   "source": [
    "plt.hist(xy_fp_nhelix_rotate_10[5,:,:,1].ravel(), bins=40, density=True)\n",
    "plt.xlim([-5,5])\n",
    "plt.ylim([0,0.7])\n",
    "plt.xlabel('distance (nm)')\n",
    "plt.ylabel('prob. density')"
   ]
  },
  {
   "cell_type": "code",
   "execution_count": 9,
   "metadata": {},
   "outputs": [
    {
     "data": {
      "text/plain": [
       "Text(0, 0.5, 'prob. density')"
      ]
     },
     "execution_count": 9,
     "metadata": {},
     "output_type": "execute_result"
    },
    {
     "data": {
      "image/png": "[encoded data removed]",
      "text/plain": [
       "<Figure size 432x288 with 1 Axes>"
      ]
     },
     "metadata": {
      "needs_background": "light"
     },
     "output_type": "display_data"
    }
   ],
   "source": [
    "plt.hist(xy_fp_nhelix_rotate_10[8,:,:,1].ravel(), bins=40, density=True,color='tab:orange')\n",
    "plt.xlim([-5,5])\n",
    "plt.ylim([0,0.6])\n",
    "plt.xlabel('distance (nm)')\n",
    "plt.ylabel('prob. density')"
   ]
  },
  {
   "cell_type": "code",
   "execution_count": 9,
   "metadata": {},
   "outputs": [],
   "source": [
    "frame_plot = 1800\n",
    "run_plot = 6"
   ]
  },
  {
   "cell_type": "code",
   "execution_count": 10,
   "metadata": {},
   "outputs": [
    {
     "data": {
      "text/plain": [
       "Text(0, 0.5, 'z (nm)')"
      ]
     },
     "execution_count": 10,
     "metadata": {},
     "output_type": "execute_result"
    },
    {
     "data": {
      "image/png": "[encoded data removed]",
      "text/plain": [
       "<Figure size 432x288 with 1 Axes>"
      ]
     },
     "metadata": {
      "needs_background": "light"
     },
     "output_type": "display_data"
    }
   ],
   "source": [
    "plt.plot(xyz_origin_10[run_plot,frame_plot,:,0],xyz_origin_10[run_plot,frame_plot,:,2],'bo')\n",
    "plt.plot(xyz_origin_10[run_plot,frame_plot,select3,0],xyz_origin_10[run_plot,frame_plot,select3,2],'go')\n",
    "plt.plot(xyz_origin_10[run_plot,frame_plot,select0,0],xyz_origin_10[run_plot,frame_plot,select0,2],'ro')\n",
    "plt.axis('equal')\n",
    "plt.xlabel('x (nm)')\n",
    "plt.ylabel('z (nm)')"
   ]
  },
  {
   "cell_type": "code",
   "execution_count": 11,
   "metadata": {},
   "outputs": [
    {
     "data": {
      "text/plain": [
       "Text(0, 0.5, 'y (nm)')"
      ]
     },
     "execution_count": 11,
     "metadata": {},
     "output_type": "execute_result"
    },
    {
     "data": {
      "image/png": "[encoded data removed]",
      "text/plain": [
       "<Figure size 432x288 with 1 Axes>"
      ]
     },
     "metadata": {
      "needs_background": "light"
     },
     "output_type": "display_data"
    }
   ],
   "source": [
    "plt.plot(xyz_origin_10[run_plot,frame_plot,:,0],xyz_origin_10[run_plot,frame_plot,:,1],'bo')\n",
    "plt.plot(xyz_origin_10[run_plot,frame_plot,select3,0],xyz_origin_10[run_plot,frame_plot,select3,1],'go')\n",
    "plt.plot(xyz_origin_10[run_plot,frame_plot,select0,0],xyz_origin_10[run_plot,frame_plot,select0,1],'ro')\n",
    "plt.axis('equal')\n",
    "plt.xlabel('x (nm)')\n",
    "plt.ylabel('y (nm)')"
   ]
  },
  {
   "cell_type": "code",
   "execution_count": 12,
   "metadata": {},
   "outputs": [
    {
     "data": {
      "text/plain": [
       "Text(0, 0.5, 'z (nm)')"
      ]
     },
     "execution_count": 12,
     "metadata": {},
     "output_type": "execute_result"
    },
    {
     "data": {
      "image/png": "[encoded data removed]",
      "text/plain": [
       "<Figure size 432x288 with 1 Axes>"
      ]
     },
     "metadata": {
      "needs_background": "light"
     },
     "output_type": "display_data"
    }
   ],
   "source": [
    "plt.plot(xyz_rotate1_10[run_plot,frame_plot,:,0],xyz_rotate1_10[run_plot,frame_plot,:,2],'bo')\n",
    "plt.plot(xyz_rotate1_10[run_plot,frame_plot,select3,0],xyz_rotate1_10[run_plot,frame_plot,select3,2],'go')\n",
    "plt.plot(xyz_rotate1_10[run_plot,frame_plot,select0,0],xyz_rotate1_10[run_plot,frame_plot,select0,2],'ro')\n",
    "plt.axis('equal')\n",
    "plt.xlabel('x (nm)')\n",
    "plt.ylabel('z (nm)')"
   ]
  },
  {
   "cell_type": "code",
   "execution_count": 46,
   "metadata": {},
   "outputs": [
    {
     "data": {
      "text/plain": [
       "Text(0, 0.5, 'y (nm)')"
      ]
     },
     "execution_count": 46,
     "metadata": {},
     "output_type": "execute_result"
    },
    {
     "data": {
      "image/png": "[encoded data removed]",
      "text/plain": [
       "<Figure size 432x288 with 1 Axes>"
      ]
     },
     "metadata": {
      "needs_background": "light"
     },
     "output_type": "display_data"
    }
   ],
   "source": [
    "frame_plot = 1800\n",
    "run_plot = 2\n",
    "#plt.plot(xyz_rotate1_10[run_plot,frame_plot,:,0],xyz_rotate1_10[run_plot,frame_plot,:,1],'bo')\n",
    "plt.plot(xyz_rotate1_10[run_plot,frame_plot,select4,0],xyz_rotate1_10[run_plot,frame_plot,select4,1],'mo')\n",
    "plt.plot(xyz_rotate1_10[run_plot,frame_plot,select3,0],xyz_rotate1_10[run_plot,frame_plot,select3,1],'go')\n",
    "\n",
    "\n",
    "#plt.plot(xyz_rotate1_10[run_plot,frame_plot,select0,0],xyz_rotate1_10[run_plot,frame_plot,select0,1],'ro')\n",
    "plt.axis('equal')\n",
    "plt.xlabel('x (nm)')\n",
    "plt.ylabel('y (nm)')"
   ]
  },
  {
   "cell_type": "code",
   "execution_count": 403,
   "metadata": {},
   "outputs": [
    {
     "data": {
      "text/plain": [
       "Text(0, 0.5, 'y (nm)')"
      ]
     },
     "execution_count": 403,
     "metadata": {},
     "output_type": "execute_result"
    },
    {
     "data": {
      "image/png": "[encoded data removed]",
      "text/plain": [
       "<Figure size 432x288 with 1 Axes>"
      ]
     },
     "metadata": {
      "needs_background": "light"
     },
     "output_type": "display_data"
    }
   ],
   "source": [
    "plt.plot(xyz_rotate1_10[run_plot,frame_plot,select3,0],xyz_rotate1_10[run_plot,frame_plot,select3,1],'go')\n",
    "plt.axis('equal')\n",
    "plt.xlabel('x (nm)')\n",
    "plt.ylabel('y (nm)')"
   ]
  },
  {
   "cell_type": "code",
   "execution_count": 404,
   "metadata": {},
   "outputs": [
    {
     "data": {
      "text/plain": [
       "Text(0, 0.5, 'y (nm)')"
      ]
     },
     "execution_count": 404,
     "metadata": {},
     "output_type": "execute_result"
    },
    {
     "data": {
      "image/png": "[encoded data removed]",
      "text/plain": [
       "<Figure size 432x288 with 1 Axes>"
      ]
     },
     "metadata": {
      "needs_background": "light"
     },
     "output_type": "display_data"
    }
   ],
   "source": [
    "plt.plot(xy_fp_nhelix_rotate_10[run_plot,frame_plot,:,0],xy_fp_nhelix_rotate_10[run_plot,frame_plot,:,1],'go')\n",
    "plt.axis('equal')\n",
    "plt.xlabel('x (nm)')\n",
    "plt.ylabel('y (nm)')"
   ]
  },
  {
   "cell_type": "code",
   "execution_count": 7,
   "metadata": {},
   "outputs": [
    {
     "data": {
      "text/plain": [
       "Text(0, 0.5, 'y (nm)')"
      ]
     },
     "execution_count": 7,
     "metadata": {},
     "output_type": "execute_result"
    },
    {
     "data": {
      "image/png": "[encoded data removed]",
      "text/plain": [
       "<Figure size 432x288 with 1 Axes>"
      ]
     },
     "metadata": {
      "needs_background": "light"
     },
     "output_type": "display_data"
    }
   ],
   "source": [
    "#8347-7822=525\n",
    "x_plot = xyz_rotate1_10[8,525-500,select3,0]\n",
    "y_plot = xyz_rotate1_10[8,525-500,select3,1]\n",
    "\n",
    "covMatrix = np.cov([x_plot,y_plot])\n",
    "aa,bb = np.linalg.eigh(covMatrix)\n",
    "\n",
    "plt.plot(x_plot,y_plot,'o',color='tab:orange')\n",
    "#plt.plot([-3*bb[1,0],3*bb[1,0]],[-3*bb[1,1],3*bb[1,1]])\n",
    "plt.gca().set_aspect('equal',adjustable='box')\n",
    "plt.xlim([-5,5])\n",
    "plt.xlabel('x (nm)')\n",
    "plt.ylabel('y (nm)')"
   ]
  },
  {
   "cell_type": "code",
   "execution_count": 336,
   "metadata": {},
   "outputs": [
    {
     "data": {
      "text/plain": [
       "array([0.07088108, 0.99748477])"
      ]
     },
     "execution_count": 336,
     "metadata": {},
     "output_type": "execute_result"
    }
   ],
   "source": [
    "bb[1,:]"
   ]
  },
  {
   "cell_type": "code",
   "execution_count": 337,
   "metadata": {},
   "outputs": [
    {
     "data": {
      "text/plain": [
       "Text(0, 0.5, 'y (nm)')"
      ]
     },
     "execution_count": 337,
     "metadata": {},
     "output_type": "execute_result"
    },
    {
     "data": {
      "image/png": "[encoded data removed]",
      "text/plain": [
       "<Figure size 432x288 with 1 Axes>"
      ]
     },
     "metadata": {
      "needs_background": "light"
     },
     "output_type": "display_data"
    }
   ],
   "source": [
    "#579\n",
    "x_plot = xyz_rotate1_10[0,579-500,select3,0]\n",
    "y_plot = xyz_rotate1_10[0,579-500,select3,1]\n",
    "\n",
    "covMatrix = np.cov([x_plot,y_plot])\n",
    "aa,bb = np.linalg.eigh(covMatrix)\n",
    "\n",
    "plt.plot(x_plot,y_plot,'go')\n",
    "#plt.plot([-3*bb[1,0],3*bb[1,0]],[-3*bb[1,1],3*bb[1,1]])\n",
    "plt.gca().set_aspect('equal',adjustable='box')\n",
    "plt.xlim([-5,5])\n",
    "plt.xlabel('x (nm)')\n",
    "plt.ylabel('y (nm)')"
   ]
  },
  {
   "cell_type": "code",
   "execution_count": 338,
   "metadata": {},
   "outputs": [
    {
     "data": {
      "text/plain": [
       "array([0.10072708, 0.99491409])"
      ]
     },
     "execution_count": 338,
     "metadata": {},
     "output_type": "execute_result"
    }
   ],
   "source": [
    "bb[1,:]"
   ]
  },
  {
   "cell_type": "code",
   "execution_count": 339,
   "metadata": {},
   "outputs": [
    {
     "data": {
      "text/plain": [
       "Text(0, 0.5, 'y (nm)')"
      ]
     },
     "execution_count": 339,
     "metadata": {},
     "output_type": "execute_result"
    },
    {
     "data": {
      "image/png": "[encoded data removed]",
      "text/plain": [
       "<Figure size 432x288 with 1 Axes>"
      ]
     },
     "metadata": {
      "needs_background": "light"
     },
     "output_type": "display_data"
    }
   ],
   "source": [
    "8347\n",
    "plt.plot(xyz_rotate1_10[8,1200,select3,0],xyz_rotate1_10[8,1200,select3,1],'go')\n",
    "plt.axis('equal')\n",
    "plt.xlabel('x (nm)')\n",
    "plt.ylabel('y (nm)')"
   ]
  },
  {
   "cell_type": "code",
   "execution_count": 340,
   "metadata": {},
   "outputs": [
    {
     "data": {
      "text/plain": [
       "(-0.05500000000000001,\n",
       " 0.05500000000000001,\n",
       " -0.05500000000000001,\n",
       " 0.05500000000000001)"
      ]
     },
     "execution_count": 340,
     "metadata": {},
     "output_type": "execute_result"
    },
    {
     "data": {
      "image/png": "[encoded data removed]",
      "text/plain": [
       "<Figure size 432x288 with 1 Axes>"
      ]
     },
     "metadata": {
      "needs_background": "light"
     },
     "output_type": "display_data"
    }
   ],
   "source": [
    "plt.plot\n",
    "plt.axis('equal')"
   ]
  },
  {
   "cell_type": "code",
   "execution_count": null,
   "metadata": {},
   "outputs": [],
   "source": []
  },
  {
   "cell_type": "code",
   "execution_count": 341,
   "metadata": {},
   "outputs": [
    {
     "data": {
      "text/html": [
       "<div>\n",
       "<style scoped>\n",
       "    .dataframe tbody tr th:only-of-type {\n",
       "        vertical-align: middle;\n",
       "    }\n",
       "\n",
       "    .dataframe tbody tr th {\n",
       "        vertical-align: top;\n",
       "    }\n",
       "\n",
       "    .dataframe thead th {\n",
       "        text-align: right;\n",
       "    }\n",
       "</style>\n",
       "<table border=\"1\" class=\"dataframe\">\n",
       "  <thead>\n",
       "    <tr style=\"text-align: right;\">\n",
       "      <th></th>\n",
       "      <th>serial</th>\n",
       "      <th>name</th>\n",
       "      <th>element</th>\n",
       "      <th>resSeq</th>\n",
       "      <th>resName</th>\n",
       "      <th>chainID</th>\n",
       "      <th>segmentID</th>\n",
       "    </tr>\n",
       "  </thead>\n",
       "  <tbody>\n",
       "  </tbody>\n",
       "</table>\n",
       "</div>"
      ],
      "text/plain": [
       "Empty DataFrame\n",
       "Columns: [serial, name, element, resSeq, resName, chainID, segmentID]\n",
       "Index: []"
      ]
     },
     "execution_count": 341,
     "metadata": {},
     "output_type": "execute_result"
    }
   ],
   "source": [
    "table_pro[table_pro.chainID==6]"
   ]
  },
  {
   "cell_type": "code",
   "execution_count": 342,
   "metadata": {},
   "outputs": [
    {
     "data": {
      "text/plain": [
       "36504    10\n",
       "36505    10\n",
       "36506    10\n",
       "36507    10\n",
       "36508    10\n",
       "         ..\n",
       "40291    10\n",
       "40292    10\n",
       "40293    10\n",
       "40294    10\n",
       "40295    10\n",
       "Name: chainID, Length: 3792, dtype: int64"
      ]
     },
     "execution_count": 342,
     "metadata": {},
     "output_type": "execute_result"
    }
   ],
   "source": [
    "table_pro.loc[table.serial>20000,'chainID']"
   ]
  },
  {
   "cell_type": "code",
   "execution_count": 343,
   "metadata": {},
   "outputs": [
    {
     "data": {
      "text/html": [
       "<div>\n",
       "<style scoped>\n",
       "    .dataframe tbody tr th:only-of-type {\n",
       "        vertical-align: middle;\n",
       "    }\n",
       "\n",
       "    .dataframe tbody tr th {\n",
       "        vertical-align: top;\n",
       "    }\n",
       "\n",
       "    .dataframe thead th {\n",
       "        text-align: right;\n",
       "    }\n",
       "</style>\n",
       "<table border=\"1\" class=\"dataframe\">\n",
       "  <thead>\n",
       "    <tr style=\"text-align: right;\">\n",
       "      <th></th>\n",
       "      <th>serial</th>\n",
       "      <th>name</th>\n",
       "      <th>element</th>\n",
       "      <th>resSeq</th>\n",
       "      <th>resName</th>\n",
       "      <th>chainID</th>\n",
       "      <th>segmentID</th>\n",
       "    </tr>\n",
       "  </thead>\n",
       "  <tbody>\n",
       "    <tr>\n",
       "      <th>36504</th>\n",
       "      <td>36505</td>\n",
       "      <td>BB</td>\n",
       "      <td>B</td>\n",
       "      <td>816</td>\n",
       "      <td>SER</td>\n",
       "      <td>10</td>\n",
       "      <td></td>\n",
       "    </tr>\n",
       "    <tr>\n",
       "      <th>36505</th>\n",
       "      <td>36506</td>\n",
       "      <td>SC1</td>\n",
       "      <td>S</td>\n",
       "      <td>816</td>\n",
       "      <td>SER</td>\n",
       "      <td>10</td>\n",
       "      <td></td>\n",
       "    </tr>\n",
       "    <tr>\n",
       "      <th>36506</th>\n",
       "      <td>36507</td>\n",
       "      <td>BB</td>\n",
       "      <td>B</td>\n",
       "      <td>817</td>\n",
       "      <td>PHE</td>\n",
       "      <td>10</td>\n",
       "      <td></td>\n",
       "    </tr>\n",
       "    <tr>\n",
       "      <th>36507</th>\n",
       "      <td>36508</td>\n",
       "      <td>SC1</td>\n",
       "      <td>S</td>\n",
       "      <td>817</td>\n",
       "      <td>PHE</td>\n",
       "      <td>10</td>\n",
       "      <td></td>\n",
       "    </tr>\n",
       "    <tr>\n",
       "      <th>36508</th>\n",
       "      <td>36509</td>\n",
       "      <td>SC2</td>\n",
       "      <td>S</td>\n",
       "      <td>817</td>\n",
       "      <td>PHE</td>\n",
       "      <td>10</td>\n",
       "      <td></td>\n",
       "    </tr>\n",
       "    <tr>\n",
       "      <th>...</th>\n",
       "      <td>...</td>\n",
       "      <td>...</td>\n",
       "      <td>...</td>\n",
       "      <td>...</td>\n",
       "      <td>...</td>\n",
       "      <td>...</td>\n",
       "      <td>...</td>\n",
       "    </tr>\n",
       "    <tr>\n",
       "      <th>40291</th>\n",
       "      <td>40292</td>\n",
       "      <td>SC1</td>\n",
       "      <td>S</td>\n",
       "      <td>814</td>\n",
       "      <td>LYS</td>\n",
       "      <td>10</td>\n",
       "      <td></td>\n",
       "    </tr>\n",
       "    <tr>\n",
       "      <th>40292</th>\n",
       "      <td>40293</td>\n",
       "      <td>SC2</td>\n",
       "      <td>S</td>\n",
       "      <td>814</td>\n",
       "      <td>LYS</td>\n",
       "      <td>10</td>\n",
       "      <td></td>\n",
       "    </tr>\n",
       "    <tr>\n",
       "      <th>40293</th>\n",
       "      <td>40294</td>\n",
       "      <td>BB</td>\n",
       "      <td>B</td>\n",
       "      <td>815</td>\n",
       "      <td>ARG</td>\n",
       "      <td>10</td>\n",
       "      <td></td>\n",
       "    </tr>\n",
       "    <tr>\n",
       "      <th>40294</th>\n",
       "      <td>40295</td>\n",
       "      <td>SC1</td>\n",
       "      <td>S</td>\n",
       "      <td>815</td>\n",
       "      <td>ARG</td>\n",
       "      <td>10</td>\n",
       "      <td></td>\n",
       "    </tr>\n",
       "    <tr>\n",
       "      <th>40295</th>\n",
       "      <td>40296</td>\n",
       "      <td>SC2</td>\n",
       "      <td>S</td>\n",
       "      <td>815</td>\n",
       "      <td>ARG</td>\n",
       "      <td>10</td>\n",
       "      <td></td>\n",
       "    </tr>\n",
       "  </tbody>\n",
       "</table>\n",
       "<p>3792 rows × 7 columns</p>\n",
       "</div>"
      ],
      "text/plain": [
       "       serial name element  resSeq resName  chainID segmentID\n",
       "36504   36505   BB       B     816     SER       10          \n",
       "36505   36506  SC1       S     816     SER       10          \n",
       "36506   36507   BB       B     817     PHE       10          \n",
       "36507   36508  SC1       S     817     PHE       10          \n",
       "36508   36509  SC2       S     817     PHE       10          \n",
       "...       ...  ...     ...     ...     ...      ...       ...\n",
       "40291   40292  SC1       S     814     LYS       10          \n",
       "40292   40293  SC2       S     814     LYS       10          \n",
       "40293   40294   BB       B     815     ARG       10          \n",
       "40294   40295  SC1       S     815     ARG       10          \n",
       "40295   40296  SC2       S     815     ARG       10          \n",
       "\n",
       "[3792 rows x 7 columns]"
      ]
     },
     "execution_count": 343,
     "metadata": {},
     "output_type": "execute_result"
    }
   ],
   "source": [
    "table_pro"
   ]
  },
  {
   "cell_type": "code",
   "execution_count": 344,
   "metadata": {},
   "outputs": [
    {
     "data": {
      "text/plain": [
       "\"\\nx_dppc = xyz[:,table.name == 'PO4',0]\\ny_dppc = xyz[:,table.name == 'PO4',1]\\nz_dppc = xyz[:,table.name == 'PO4',2]\\n\\n\\nfp1_start = table[(table.resName!='DPPC')&(table.resSeq==2)&(table.resName=='PHE')]['serial'].values[0]\\nfp2_start = table[(table.resName!='DPPC')&(table.resSeq==2)&(table.resName=='PHE')]['serial'].values[4]\\nfp3_start = table[(table.resName!='DPPC')&(table.resSeq==2)&(table.resName=='PHE')]['serial'].values[8]\\n\\nfp1_end = table[(table.resName!='DPPC')&(table.resSeq==10)&(table.resName=='LYS')]['serial'].values[0]\\nfp2_end = table[(table.resName!='DPPC')&(table.resSeq==10)&(table.resName=='LYS')]['serial'].values[3]\\nfp3_end = table[(table.resName!='DPPC')&(table.resSeq==10)&(table.resName=='LYS')]['serial'].values[6]\\n\\nxyz_fp1 = xyz[:,(table.serial>=fp1_start)&(table.serial<=fp1_end),:]\\nxyz_fp2 = xyz[:,(table.serial>=fp2_start)&(table.serial<=fp2_end),:]\\nxyz_fp3 = xyz[:,(table.serial>=fp3_start)&(table.serial<=fp3_end),:]\\n\\nxyz_hr1 = table[(table.resName!='DPPC')&(table.resSeq==10)&(table.resName=='LYS')]['serial'].values[0]\\n\""
      ]
     },
     "execution_count": 344,
     "metadata": {},
     "output_type": "execute_result"
    }
   ],
   "source": [
    "'''\n",
    "x_dppc = xyz[:,table.name == 'PO4',0]\n",
    "y_dppc = xyz[:,table.name == 'PO4',1]\n",
    "z_dppc = xyz[:,table.name == 'PO4',2]\n",
    "\n",
    "\n",
    "fp1_start = table[(table.resName!='DPPC')&(table.resSeq==2)&(table.resName=='PHE')]['serial'].values[0]\n",
    "fp2_start = table[(table.resName!='DPPC')&(table.resSeq==2)&(table.resName=='PHE')]['serial'].values[4]\n",
    "fp3_start = table[(table.resName!='DPPC')&(table.resSeq==2)&(table.resName=='PHE')]['serial'].values[8]\n",
    "\n",
    "fp1_end = table[(table.resName!='DPPC')&(table.resSeq==10)&(table.resName=='LYS')]['serial'].values[0]\n",
    "fp2_end = table[(table.resName!='DPPC')&(table.resSeq==10)&(table.resName=='LYS')]['serial'].values[3]\n",
    "fp3_end = table[(table.resName!='DPPC')&(table.resSeq==10)&(table.resName=='LYS')]['serial'].values[6]\n",
    "\n",
    "xyz_fp1 = xyz[:,(table.serial>=fp1_start)&(table.serial<=fp1_end),:]\n",
    "xyz_fp2 = xyz[:,(table.serial>=fp2_start)&(table.serial<=fp2_end),:]\n",
    "xyz_fp3 = xyz[:,(table.serial>=fp3_start)&(table.serial<=fp3_end),:]\n",
    "\n",
    "xyz_hr1 = table[(table.resName!='DPPC')&(table.resSeq==10)&(table.resName=='LYS')]['serial'].values[0]\n",
    "'''"
   ]
  },
  {
   "cell_type": "code",
   "execution_count": 345,
   "metadata": {},
   "outputs": [
    {
     "ename": "IndexError",
     "evalue": "index 9 is out of bounds for axis 0 with size 6",
     "output_type": "error",
     "traceback": [
      "\u001b[0;31m---------------------------------------------------------------------------\u001b[0m",
      "\u001b[0;31mIndexError\u001b[0m                                Traceback (most recent call last)",
      "\u001b[0;32m<ipython-input-345-02c84889dd88>\u001b[0m in \u001b[0;36m<module>\u001b[0;34m\u001b[0m\n\u001b[0;32m----> 1\u001b[0;31m \u001b[0;34m(\u001b[0m\u001b[0mtable_pro\u001b[0m\u001b[0;34m.\u001b[0m\u001b[0mserial\u001b[0m\u001b[0;34m>=\u001b[0m\u001b[0mchain_start\u001b[0m\u001b[0;34m[\u001b[0m\u001b[0mi\u001b[0m\u001b[0;34m]\u001b[0m\u001b[0;34m)\u001b[0m\u001b[0;34m&\u001b[0m\u001b[0;34m(\u001b[0m\u001b[0mtable_pro\u001b[0m\u001b[0;34m.\u001b[0m\u001b[0mserial\u001b[0m\u001b[0;34m<=\u001b[0m\u001b[0mchain_end\u001b[0m\u001b[0;34m[\u001b[0m\u001b[0mi\u001b[0m\u001b[0;34m]\u001b[0m\u001b[0;34m)\u001b[0m\u001b[0;34m\u001b[0m\u001b[0;34m\u001b[0m\u001b[0m\n\u001b[0m",
      "\u001b[0;31mIndexError\u001b[0m: index 9 is out of bounds for axis 0 with size 6"
     ]
    }
   ],
   "source": [
    "(table_pro.serial>=chain_start[i])&(table_pro.serial<=chain_end[i])"
   ]
  },
  {
   "cell_type": "code",
   "execution_count": null,
   "metadata": {},
   "outputs": [],
   "source": [
    "table_pro.serial<=chain_end[i]"
   ]
  },
  {
   "cell_type": "code",
   "execution_count": null,
   "metadata": {},
   "outputs": [],
   "source": [
    "table_pro[table_pro.resSeq==1]['serial'].values[::2]"
   ]
  },
  {
   "cell_type": "code",
   "execution_count": null,
   "metadata": {},
   "outputs": [],
   "source": [
    "chain_end"
   ]
  },
  {
   "cell_type": "code",
   "execution_count": null,
   "metadata": {},
   "outputs": [],
   "source": [
    "table_pro[table_pro.resSeq==1]['serial'].values"
   ]
  },
  {
   "cell_type": "code",
   "execution_count": null,
   "metadata": {},
   "outputs": [],
   "source": [
    "plt.rcParams['font.family'] = \"Helvetica\"\n",
    "plt.rcParams['axes.linewidth'] = 2\n",
    "plt.rcParams['axes.labelsize'] = 20\n",
    "plt.rcParams['xtick.labelsize'] = 24\n",
    "plt.rcParams['ytick.labelsize'] = 24\n",
    "plt.rcParams['xtick.major.width'] = 2\n",
    "plt.rcParams['ytick.major.width'] = 2"
   ]
  },
  {
   "cell_type": "code",
   "execution_count": null,
   "metadata": {},
   "outputs": [],
   "source": []
  },
  {
   "cell_type": "code",
   "execution_count": null,
   "metadata": {},
   "outputs": [],
   "source": [
    "i=6\n",
    "#plt.figure(figsize=(15,5))\n",
    "#plt.plot(np.arange(len(z_dppc))*4/1000,z_viral_mb_lower_10[i,:],'k')\n",
    "#plt.plot(np.arange(len(z_dppc))*4/1000,z_viral_mb_upper_10[i,:],'k')\n",
    "#plt.plot(np.arange(len(z_dppc))*4/1000,z_cell_mb_lower_10[i,:],'k')\n",
    "#plt.plot(np.arange(len(z_dppc))*4/1000,z_cell_mb_upper_10[i,:],'k')\n",
    "plt.plot(np.arange(len(z_dppc))*4/1000,-helix_cg_10_z[i,0,:].T + z_cell_mb_lower_10[i,:])\n",
    "plt.plot(np.arange(len(z_dppc))*4/1000,-helix_cg_10_z[i,1,:].T + z_cell_mb_lower_10[i,:])\n",
    "plt.plot(np.arange(len(z_dppc))*4/1000,-helix_cg_10_z[i,2,:].T + z_cell_mb_lower_10[i,:])\n",
    "#plt.plot(np.arange(len(z_dppc))*4/1000,z_cell_mb_lower_10[i,:]-2*1.52,'b')\n",
    "plt.xlim([0,8])\n",
    "#plt.ylim([0,35])\n",
    "plt.xlabel('time (µs)')\n",
    "plt.ylabel('z (nm)')\n"
   ]
  },
  {
   "cell_type": "code",
   "execution_count": null,
   "metadata": {},
   "outputs": [],
   "source": [
    "i=0"
   ]
  },
  {
   "cell_type": "code",
   "execution_count": null,
   "metadata": {},
   "outputs": [],
   "source": [
    "plt.plot(np.arange(len(z_dppc))*4/1000,helix_cg_10_x[i,0,:].T)\n",
    "plt.plot(np.arange(len(z_dppc))*4/1000,helix_cg_10_x[i,1,:].T)\n",
    "plt.plot(np.arange(len(z_dppc))*4/1000,helix_cg_10_x[i,2,:].T)\n",
    "plt.xlim([0,8])\n",
    "plt.ylim([-25,25])\n",
    "plt.xlabel('time (µs)')\n",
    "plt.ylabel('x (nm)')"
   ]
  },
  {
   "cell_type": "code",
   "execution_count": null,
   "metadata": {},
   "outputs": [],
   "source": [
    "plt.plot(np.arange(len(z_dppc))*4/1000,helix_cg_10_y[i,0,:].T)\n",
    "plt.plot(np.arange(len(z_dppc))*4/1000,helix_cg_10_y[i,1,:].T)\n",
    "plt.plot(np.arange(len(z_dppc))*4/1000,helix_cg_10_y[i,2,:].T)\n",
    "\n",
    "\n",
    "plt.xlim([0,8])\n",
    "plt.ylim([-25,25])\n",
    "\n",
    "plt.xlabel('time (µs)')\n",
    "plt.ylabel('y (nm)')"
   ]
  },
  {
   "cell_type": "code",
   "execution_count": null,
   "metadata": {},
   "outputs": [],
   "source": [
    "aa = ((helix_cg_10_y[:,:,:-1]-helix_cg_10_y[:,:,1:]).ravel())**2 + ((helix_cg_10_x[:,:,:-1]-helix_cg_10_x[:,:,1:]).ravel())**2 + ((helix_cg_10_z[:,:,:-1]-helix_cg_10_z[:,:,1:]).ravel())**2"
   ]
  },
  {
   "cell_type": "code",
   "execution_count": null,
   "metadata": {},
   "outputs": [],
   "source": [
    "np.max(aa)"
   ]
  },
  {
   "cell_type": "code",
   "execution_count": null,
   "metadata": {},
   "outputs": [],
   "source": [
    "np.mean(aa)"
   ]
  },
  {
   "cell_type": "code",
   "execution_count": null,
   "metadata": {},
   "outputs": [],
   "source": [
    "np.std(aa)"
   ]
  },
  {
   "cell_type": "code",
   "execution_count": null,
   "metadata": {},
   "outputs": [],
   "source": [
    "np.sum(np.multiply(helix_cg_10[i,2,:]>(z_cell_mb_lower_10[i,:]-1.52),1))"
   ]
  },
  {
   "cell_type": "code",
   "execution_count": null,
   "metadata": {},
   "outputs": [],
   "source": [
    "helix_cg[0,:] > (z_cell_mb_lower-1.52)"
   ]
  },
  {
   "cell_type": "code",
   "execution_count": null,
   "metadata": {},
   "outputs": [],
   "source": [
    "z_cell_mb_lower-1.52"
   ]
  },
  {
   "cell_type": "code",
   "execution_count": null,
   "metadata": {},
   "outputs": [],
   "source": [
    "np.shape(z_viral_mb_lower)"
   ]
  },
  {
   "cell_type": "code",
   "execution_count": null,
   "metadata": {},
   "outputs": [],
   "source": [
    "contact_prob = np.sum(np.multiply(helix_cg_10[:,0,:]>(z_cell_mb_lower_10[:,:]-1.52),1) + np.multiply(helix_cg_10[:,1,:]>(z_cell_mb_lower_10[:,:]-1.52),1) + np.multiply(helix_cg_10[:,2,:]>(z_cell_mb_lower_10[:,:]-1.52),1),axis=0)"
   ]
  },
  {
   "cell_type": "code",
   "execution_count": null,
   "metadata": {},
   "outputs": [],
   "source": [
    "contact_prob"
   ]
  },
  {
   "cell_type": "code",
   "execution_count": null,
   "metadata": {},
   "outputs": [],
   "source": [
    "plt.figure(figsize=(15,5))\n",
    "plt.plot(np.arange(len(contact_prob))/1000*4,contact_prob/10)\n",
    "plt.xlim([0,8])\n",
    "plt.ylim([0,1])\n",
    "plt.xlabel('time (µs)')\n",
    "plt.ylabel('contact probability')\n",
    "\n"
   ]
  },
  {
   "cell_type": "code",
   "execution_count": null,
   "metadata": {},
   "outputs": [],
   "source": [
    "plt.hist(helix_cg_10[1,0,:],alpha=0.4)\n",
    "plt.hist(helix_cg_10[1,1,:],alpha=0.4)\n",
    "plt.hist(helix_cg_10[1,2,:],alpha=0.4)\n",
    "plt.plot([np.mean(z_cell_mb_lower_10[2,:]),np.mean(z_cell_mb_lower_10[2,:])],[0,1000])\n",
    "plt.plot([np.mean(z_cell_mb_lower_10[2,:])-1.52,np.mean(z_cell_mb_lower_10[2,:])-1.52],[0,1000])\n",
    "\n"
   ]
  },
  {
   "cell_type": "code",
   "execution_count": null,
   "metadata": {},
   "outputs": [],
   "source": [
    "plt.hist(helix_cg_10.ravel(),bins=50)\n",
    "plt.plot([np.mean(z_cell_mb_lower_10[2,:]),np.mean(z_cell_mb_lower_10[2,:])],[0,1000])\n",
    "plt.plot([np.mean(z_cell_mb_lower_10[2,:])-2*1.52,np.mean(z_cell_mb_lower_10[2,:])-2*1.52],[0,1000])"
   ]
  },
  {
   "cell_type": "code",
   "execution_count": 324,
   "metadata": {},
   "outputs": [
    {
     "ename": "NameError",
     "evalue": "name 'helix_cg_10' is not defined",
     "output_type": "error",
     "traceback": [
      "\u001b[0;31m---------------------------------------------------------------------------\u001b[0m",
      "\u001b[0;31mNameError\u001b[0m                                 Traceback (most recent call last)",
      "\u001b[0;32m<ipython-input-324-69fe721894e1>\u001b[0m in \u001b[0;36m<module>\u001b[0;34m\u001b[0m\n\u001b[1;32m      1\u001b[0m \u001b[0mtrunc\u001b[0m \u001b[0;34m=\u001b[0m \u001b[0;36m501\u001b[0m\u001b[0;34m\u001b[0m\u001b[0;34m\u001b[0m\u001b[0m\n\u001b[0;32m----> 2\u001b[0;31m \u001b[0mhelix_cg_10_cali\u001b[0m \u001b[0;34m=\u001b[0m \u001b[0mhelix_cg_10\u001b[0m\u001b[0;34m[\u001b[0m\u001b[0;34m:\u001b[0m\u001b[0;34m,\u001b[0m\u001b[0;34m:\u001b[0m\u001b[0;34m,\u001b[0m\u001b[0mtrunc\u001b[0m\u001b[0;34m:\u001b[0m\u001b[0;34m]\u001b[0m\u001b[0;34m.\u001b[0m\u001b[0mcopy\u001b[0m\u001b[0;34m(\u001b[0m\u001b[0;34m)\u001b[0m\u001b[0;34m\u001b[0m\u001b[0;34m\u001b[0m\u001b[0m\n\u001b[0m\u001b[1;32m      3\u001b[0m \u001b[0mhelix_cg_10_cali2\u001b[0m \u001b[0;34m=\u001b[0m \u001b[0mhelix_cg_10\u001b[0m\u001b[0;34m[\u001b[0m\u001b[0;34m:\u001b[0m\u001b[0;34m,\u001b[0m\u001b[0;36m0\u001b[0m\u001b[0;34m,\u001b[0m\u001b[0mtrunc\u001b[0m\u001b[0;34m:\u001b[0m\u001b[0;34m]\u001b[0m\u001b[0;34m.\u001b[0m\u001b[0mcopy\u001b[0m\u001b[0;34m(\u001b[0m\u001b[0;34m)\u001b[0m\u001b[0;34m\u001b[0m\u001b[0;34m\u001b[0m\u001b[0m\n\u001b[1;32m      4\u001b[0m \u001b[0;32mfor\u001b[0m \u001b[0mi\u001b[0m \u001b[0;32min\u001b[0m \u001b[0mrange\u001b[0m\u001b[0;34m(\u001b[0m\u001b[0;36m10\u001b[0m\u001b[0;34m)\u001b[0m\u001b[0;34m:\u001b[0m\u001b[0;34m\u001b[0m\u001b[0;34m\u001b[0m\u001b[0m\n\u001b[1;32m      5\u001b[0m     \u001b[0mhelix_cg_10_cali\u001b[0m\u001b[0;34m[\u001b[0m\u001b[0mi\u001b[0m\u001b[0;34m,\u001b[0m\u001b[0;34m:\u001b[0m\u001b[0;34m,\u001b[0m\u001b[0;34m:\u001b[0m\u001b[0;34m]\u001b[0m \u001b[0;34m=\u001b[0m \u001b[0mnp\u001b[0m\u001b[0;34m.\u001b[0m\u001b[0mmean\u001b[0m\u001b[0;34m(\u001b[0m\u001b[0mz_cell_mb_lower_10\u001b[0m\u001b[0;34m[\u001b[0m\u001b[0mi\u001b[0m\u001b[0;34m,\u001b[0m\u001b[0mtrunc\u001b[0m\u001b[0;34m:\u001b[0m\u001b[0;34m]\u001b[0m\u001b[0;34m)\u001b[0m \u001b[0;34m-\u001b[0m \u001b[0mhelix_cg_10\u001b[0m\u001b[0;34m[\u001b[0m\u001b[0mi\u001b[0m\u001b[0;34m,\u001b[0m\u001b[0;34m:\u001b[0m\u001b[0;34m,\u001b[0m\u001b[0mtrunc\u001b[0m\u001b[0;34m:\u001b[0m\u001b[0;34m]\u001b[0m\u001b[0;34m\u001b[0m\u001b[0;34m\u001b[0m\u001b[0m\n",
      "\u001b[0;31mNameError\u001b[0m: name 'helix_cg_10' is not defined"
     ]
    }
   ],
   "source": [
    "trunc = 501\n",
    "helix_cg_10_cali = helix_cg_10[:,:,trunc:].copy()\n",
    "helix_cg_10_cali2 = helix_cg_10[:,0,trunc:].copy()\n",
    "for i in range(10):\n",
    "    helix_cg_10_cali[i,:,:] = np.mean(z_cell_mb_lower_10[i,trunc:]) - helix_cg_10[i,:,trunc:]\n",
    "    helix_cg_10_cali2[i,:] = np.mean(z_cell_mb_lower_10[i,trunc:]) - np.max(helix_cg_10[i,:,trunc:],axis=0)\n",
    "    helix_cg_10_cali0[i,:] = np.mean(z_cell_mb_lower_10[i,:]) - np.max(helix_cg_10[i,:,:],axis=0)\n"
   ]
  },
  {
   "cell_type": "code",
   "execution_count": null,
   "metadata": {},
   "outputs": [],
   "source": []
  },
  {
   "cell_type": "code",
   "execution_count": null,
   "metadata": {},
   "outputs": [],
   "source": [
    "plt.figure()\n",
    "plt.hist(helix_cg_10_cali2[8,:].ravel(),bins=50,alpha=1)\n",
    "plt.plot([1,1],[0,80])\n",
    "plt.ylim([0,80])\n",
    "plt.xlim([0,6])\n",
    "plt.xlabel('z (nm)')\n",
    "plt.ylabel('count')"
   ]
  },
  {
   "cell_type": "code",
   "execution_count": null,
   "metadata": {},
   "outputs": [],
   "source": [
    "np.sum(helix_cg_10_cali[:,0,:].ravel()<2*1.52) / len(helix_cg_10_cali[:,0,:].ravel())"
   ]
  },
  {
   "cell_type": "code",
   "execution_count": null,
   "metadata": {},
   "outputs": [],
   "source": [
    "np.sum(helix_cg_10_cali[:,1,:].ravel()<2*1.52) / len(helix_cg_10_cali[:,1,:].ravel())"
   ]
  },
  {
   "cell_type": "code",
   "execution_count": null,
   "metadata": {},
   "outputs": [],
   "source": [
    "np.sum(helix_cg_10_cali[:,2,:].ravel()<2*1.52) / len(helix_cg_10_cali[:,2,:].ravel())"
   ]
  },
  {
   "cell_type": "code",
   "execution_count": null,
   "metadata": {},
   "outputs": [],
   "source": [
    "plt.rcParams['font.family'] = \"Helvetica\"\n",
    "plt.rcParams['axes.linewidth'] = 2\n",
    "plt.rcParams['axes.labelsize'] = 28\n",
    "plt.rcParams['xtick.labelsize'] = 20\n",
    "plt.rcParams['ytick.labelsize'] = 20\n",
    "plt.rcParams['xtick.major.width'] = 2\n",
    "plt.rcParams['ytick.major.width'] = 2\n",
    "plt.rcParams['figure.titlesize'] = 32"
   ]
  },
  {
   "cell_type": "code",
   "execution_count": null,
   "metadata": {},
   "outputs": [],
   "source": [
    "plt.figure()\n",
    "plt.hist(helix_cg_10_cali2[np.r_[:8,9],:].ravel(),bins=15,density=True,alpha=1)\n",
    "plt.plot([2*1.52,2*1.52],[0,0.13])\n",
    "plt.ylim([0,0.13])\n",
    "plt.ylabel('probability')\n",
    "plt.xlabel('distance (nm)')"
   ]
  },
  {
   "cell_type": "code",
   "execution_count": null,
   "metadata": {},
   "outputs": [],
   "source": [
    "a = np.array([1,2,3,4,5,6,7,8,9,10])\n",
    "a[np.r_[:8,9]]"
   ]
  },
  {
   "cell_type": "code",
   "execution_count": null,
   "metadata": {},
   "outputs": [],
   "source": [
    "np.sum(helix_cg_10_cali2[:,:].ravel()<2*1.52) / len(helix_cg_10_cali2[:,:].ravel())"
   ]
  },
  {
   "cell_type": "code",
   "execution_count": null,
   "metadata": {},
   "outputs": [],
   "source": [
    "np.sum(helix_cg_10_cali2[:,:].ravel()<1)/ len(helix_cg_10_cali2[:,:].ravel())"
   ]
  },
  {
   "cell_type": "code",
   "execution_count": null,
   "metadata": {},
   "outputs": [],
   "source": [
    "0.1%"
   ]
  },
  {
   "cell_type": "code",
   "execution_count": null,
   "metadata": {},
   "outputs": [],
   "source": [
    "40 µm^2/s"
   ]
  },
  {
   "cell_type": "code",
   "execution_count": null,
   "metadata": {},
   "outputs": [],
   "source": [
    "aa = helix_cg_10_cali2[np.r_[:8,9],:].ravel()\n",
    "bb = helix_cg_10_cali2.ravel()"
   ]
  },
  {
   "cell_type": "code",
   "execution_count": null,
   "metadata": {},
   "outputs": [],
   "source": [
    "plt.hist(aa[aa<2.8],bins=np.linspace(0,2.8,29),alpha=1)\n",
    "plt.xlim([0,2.8])\n",
    "plt.title('EI simulation',fontsize=28)\n",
    "plt.ylabel('count')\n",
    "plt.xlabel('z (nm)')"
   ]
  },
  {
   "cell_type": "code",
   "execution_count": null,
   "metadata": {},
   "outputs": [],
   "source": [
    "plt.hist(aa[aa<=1.5],bins=np.linspace(0,1.5,16),alpha=1)\n",
    "plt.xlim([0,1.5])\n",
    "plt.title('EI simulation',fontsize=28)\n",
    "plt.ylabel('count')\n",
    "plt.xlabel('z (nm)')"
   ]
  },
  {
   "cell_type": "code",
   "execution_count": 106,
   "metadata": {},
   "outputs": [
    {
     "data": {
      "text/plain": [
       "range(2, 4)"
      ]
     },
     "execution_count": 106,
     "metadata": {},
     "output_type": "execute_result"
    }
   ],
   "source": [
    "range(2,4)"
   ]
  },
  {
   "cell_type": "code",
   "execution_count": 323,
   "metadata": {},
   "outputs": [
    {
     "ename": "NameError",
     "evalue": "name 'helix_cg_10_cali0' is not defined",
     "output_type": "error",
     "traceback": [
      "\u001b[0;31m---------------------------------------------------------------------------\u001b[0m",
      "\u001b[0;31mNameError\u001b[0m                                 Traceback (most recent call last)",
      "\u001b[0;32m<ipython-input-323-997fa72870e3>\u001b[0m in \u001b[0;36m<module>\u001b[0;34m\u001b[0m\n\u001b[0;32m----> 1\u001b[0;31m \u001b[0mhelix_cg_10_cali0\u001b[0m\u001b[0;34m\u001b[0m\u001b[0;34m\u001b[0m\u001b[0m\n\u001b[0m",
      "\u001b[0;31mNameError\u001b[0m: name 'helix_cg_10_cali0' is not defined"
     ]
    }
   ],
   "source": [
    "helix_cg_10_cali0"
   ]
  },
  {
   "cell_type": "code",
   "execution_count": null,
   "metadata": {},
   "outputs": [],
   "source": []
  }
 ],
 "metadata": {
  "kernelspec": {
   "display_name": "Python 3",
   "language": "python",
   "name": "python3"
  },
  "language_info": {
   "codemirror_mode": {
    "name": "ipython",
    "version": 3
   },
   "file_extension": ".py",
   "mimetype": "text/x-python",
   "name": "python",
   "nbconvert_exporter": "python",
   "pygments_lexer": "ipython3",
   "version": "3.8.3"
  }
 },
 "nbformat": 4,
 "nbformat_minor": 4
}
