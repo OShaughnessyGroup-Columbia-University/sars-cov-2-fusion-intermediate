{
 "cells": [
  {
   "cell_type": "code",
   "execution_count": 1,
   "metadata": {},
   "outputs": [],
   "source": [
    "import mdtraj as md\n",
    "import numpy as np\n",
    "from matplotlib import pyplot as plt\n",
    "from mpl_toolkits import mplot3d\n",
    "import statsmodels.api as sm\n",
    "from matplotlib import animation\n",
    "from IPython.display import HTML\n",
    "import matplotlib\n",
    "from scipy.interpolate import interp1d\n",
    "from scipy import interpolate\n",
    "matplotlib.rcParams['animation.embed_limit'] = 2**128"
   ]
  },
  {
   "cell_type": "code",
   "execution_count": 14,
   "metadata": {},
   "outputs": [],
   "source": [
    "def read_traj(index):\n",
    "    \n",
    "    global traj, xyz_pro, xyz_dppc, xyz_pro_fit_center, table_pro, table\n",
    "    \n",
    "    traj = md.load_xtc('run%d/sys_hydro_run_10.xtc'%index, top = 'initial_promb.pdb')\n",
    "    xyz = traj.xyz\n",
    "    top = traj.topology\n",
    "    table, bonds = top.to_dataframe()\n",
    "    \n",
    "    table.loc[ table.chainID==0, 'resSeq'] = table['resSeq'][table.chainID==0].values + 815\n",
    "    table.loc[ table.chainID==1, 'resSeq'] = table['resSeq'][table.chainID==1].values + 815\n",
    "    table.loc[ table.chainID==2, 'resSeq'] = table['resSeq'][table.chainID==2].values + 815\n",
    "\n",
    "    table.loc[ table.chainID==3, 'resSeq'] = table['resSeq'][table.chainID==3].values + 685\n",
    "    table.loc[ table.chainID==4, 'resSeq'] = table['resSeq'][table.chainID==4].values + 685\n",
    "    table.loc[ table.chainID==5, 'resSeq'] = table['resSeq'][table.chainID==5].values + 685\n",
    "    \n",
    "    table_pro =  table[table.chainID < 3]\n",
    "    xyz_pro = xyz[:,table.chainID < 3,:]\n",
    "    \n",
    "    xyz_pro = deal_pbc()\n",
    "    \n",
    "    xyz_dppc = xyz[:,(table.resName == 'DPPC') ,:]\n",
    "    table_pro_fit = table_pro[(table_pro.resSeq > 911)&(table_pro.resSeq < 1238)&(table_pro.name == 'BB')]\n",
    "    xyz_pro_fit = xyz_pro[:,(table_pro.resSeq > 911)&(table_pro.resSeq < 1238)&(table_pro.name == 'BB'),:]\n",
    "    chain_length_pro_fit = int(np.shape(xyz_pro_fit)[1]/3)\n",
    "    xyz_pro_fit1 = xyz_pro_fit[:,:chain_length_pro_fit,:]\n",
    "    xyz_pro_fit2 = xyz_pro_fit[:,chain_length_pro_fit:2*chain_length_pro_fit,:]\n",
    "    xyz_pro_fit3 = xyz_pro_fit[:,2*chain_length_pro_fit:,:]\n",
    "    xyz_pro_fit_center = (xyz_pro_fit1+xyz_pro_fit2+xyz_pro_fit3)/3"
   ]
  },
  {
   "cell_type": "code",
   "execution_count": 3,
   "metadata": {},
   "outputs": [
    {
     "ename": "NameError",
     "evalue": "name 'index' is not defined",
     "output_type": "error",
     "traceback": [
      "\u001b[0;31m---------------------------------------------------------------------------\u001b[0m",
      "\u001b[0;31mNameError\u001b[0m                                 Traceback (most recent call last)",
      "\u001b[0;32m<ipython-input-3-678406cba717>\u001b[0m in \u001b[0;36m<module>\u001b[0;34m\u001b[0m\n\u001b[0;32m----> 1\u001b[0;31m \u001b[0mtraj\u001b[0m \u001b[0;34m=\u001b[0m \u001b[0mmd\u001b[0m\u001b[0;34m.\u001b[0m\u001b[0mload_xtc\u001b[0m\u001b[0;34m(\u001b[0m\u001b[0;34m'run%d/sys_hydro_run_10.xtc'\u001b[0m\u001b[0;34m%\u001b[0m\u001b[0mindex\u001b[0m\u001b[0;34m,\u001b[0m \u001b[0mtop\u001b[0m \u001b[0;34m=\u001b[0m \u001b[0;34m'initial_promb.pdb'\u001b[0m\u001b[0;34m)\u001b[0m\u001b[0;34m\u001b[0m\u001b[0;34m\u001b[0m\u001b[0m\n\u001b[0m\u001b[1;32m      2\u001b[0m \u001b[0mxyz\u001b[0m \u001b[0;34m=\u001b[0m \u001b[0mtraj\u001b[0m\u001b[0;34m.\u001b[0m\u001b[0mxyz\u001b[0m\u001b[0;34m\u001b[0m\u001b[0;34m\u001b[0m\u001b[0m\n\u001b[1;32m      3\u001b[0m \u001b[0mtop\u001b[0m \u001b[0;34m=\u001b[0m \u001b[0mtraj\u001b[0m\u001b[0;34m.\u001b[0m\u001b[0mtopology\u001b[0m\u001b[0;34m\u001b[0m\u001b[0;34m\u001b[0m\u001b[0m\n\u001b[1;32m      4\u001b[0m \u001b[0mtable\u001b[0m\u001b[0;34m,\u001b[0m \u001b[0mbonds\u001b[0m \u001b[0;34m=\u001b[0m \u001b[0mtop\u001b[0m\u001b[0;34m.\u001b[0m\u001b[0mto_dataframe\u001b[0m\u001b[0;34m(\u001b[0m\u001b[0;34m)\u001b[0m\u001b[0;34m\u001b[0m\u001b[0;34m\u001b[0m\u001b[0m\n\u001b[1;32m      5\u001b[0m \u001b[0;34m\u001b[0m\u001b[0m\n",
      "\u001b[0;31mNameError\u001b[0m: name 'index' is not defined"
     ]
    }
   ],
   "source": [
    "traj = md.load_xtc('run%d/sys_hydro_run_10.xtc'%index, top = 'initial_promb.pdb')\n",
    "xyz = traj.xyz\n",
    "top = traj.topology\n",
    "table, bonds = top.to_dataframe()\n",
    "\n",
    "table.loc[ table.chainID==0, 'resSeq'] = table['resSeq'][table.chainID==0].values + 815\n",
    "table.loc[ table.chainID==1, 'resSeq'] = table['resSeq'][table.chainID==1].values + 815\n",
    "table.loc[ table.chainID==2, 'resSeq'] = table['resSeq'][table.chainID==2].values + 815\n",
    "\n",
    "table.loc[ table.chainID==3, 'resSeq'] = table['resSeq'][table.chainID==3].values + 685\n",
    "table.loc[ table.chainID==4, 'resSeq'] = table['resSeq'][table.chainID==4].values + 685\n",
    "table.loc[ table.chainID==5, 'resSeq'] = table['resSeq'][table.chainID==5].values + 685\n",
    "\n",
    "table_pro =  table[table.chainID < 3]\n",
    "xyz_pro = xyz[:,table.chainID < 3,:]"
   ]
  },
  {
   "cell_type": "code",
   "execution_count": null,
   "metadata": {},
   "outputs": [],
   "source": [
    "xyz_pro_origin = xyz_pro.copy()"
   ]
  },
  {
   "cell_type": "code",
   "execution_count": 31,
   "metadata": {},
   "outputs": [],
   "source": [
    "def deal_pbc():\n",
    "    global xyz_pro, table_pro, traj\n",
    "    \n",
    "    chain1_center = np.mean(xyz_pro[:,table_pro.chainID==0,:],axis=1)\n",
    "    chain2_center = np.mean(xyz_pro[:,table_pro.chainID==1,:],axis=1)\n",
    "    chain3_center = np.mean(xyz_pro[:,table_pro.chainID==2,:],axis=1)\n",
    "\n",
    "    for j in range(3):\n",
    "        pbc_cross_1 = np.where(abs(chain1_center[:,j] - chain2_center[:,j])>4)\n",
    "        for i in range(len(pbc_cross_1[0])):\n",
    "            if(chain2_center[pbc_cross_1[0][i],j] - chain1_center[pbc_cross_1[0][i],j] > 0):\n",
    "                xyz_pro[pbc_cross_1[0][i],table_pro.chainID==1,j] = xyz_pro[pbc_cross_1[0][i],table_pro.chainID==1,j] - traj.unitcell_lengths[pbc_cross_1[0][i],j]\n",
    "            else:\n",
    "                xyz_pro[pbc_cross_1[0][i],table_pro.chainID==1,j] = xyz_pro[pbc_cross_1[0][i],table_pro.chainID==1,j] + traj.unitcell_lengths[pbc_cross_1[0][i],j]\n",
    "\n",
    "        pbc_cross_2 = np.where(abs(chain1_center[:,j] - chain3_center[:,j])>4)\n",
    "        for i in range(len(pbc_cross_2[0])):\n",
    "            if(chain3_center[pbc_cross_2[0][i],j] - chain1_center[pbc_cross_2[0][i],j] > 0):\n",
    "                xyz_pro[pbc_cross_2[0][i],table_pro.chainID==2,j] = xyz_pro[pbc_cross_2[0][i],table_pro.chainID==2,j] - traj.unitcell_lengths[pbc_cross_2[0][i],j]\n",
    "            else:\n",
    "                xyz_pro[pbc_cross_2[0][i],table_pro.chainID==2,j] = xyz_pro[pbc_cross_2[0][i],table_pro.chainID==2,j] + traj.unitcell_lengths[pbc_cross_2[0][i],j]\n",
    "    \n",
    "    return xyz_pro\n",
    "\n",
    "    "
   ]
  },
  {
   "cell_type": "code",
   "execution_count": null,
   "metadata": {},
   "outputs": [],
   "source": [
    "chain1_center = np.mean(xyz_pro[:,table_pro.chainID==0,:],axis=1)\n",
    "chain2_center = np.mean(xyz_pro[:,table_pro.chainID==1,:],axis=1)\n",
    "chain3_center = np.mean(xyz_pro[:,table_pro.chainID==2,:],axis=1)"
   ]
  },
  {
   "cell_type": "code",
   "execution_count": 28,
   "metadata": {},
   "outputs": [],
   "source": [
    "chain1_center = np.mean(xyz_pro[:,table_pro.chainID==0,:],axis=1)\n",
    "chain2_center = np.mean(xyz_pro[:,table_pro.chainID==1,:],axis=1)\n",
    "chain3_center = np.mean(xyz_pro[:,table_pro.chainID==2,:],axis=1)\n",
    "\n",
    "for j in range(3):\n",
    "    pbc_cross_1 = np.where(abs(chain1_center[:,j] - chain2_center[:,j])>4)\n",
    "    for i in range(len(pbc_cross_1[0])):\n",
    "        if(chain2_center[pbc_cross_1[0][i],j] - chain1_center[pbc_cross_1[0][i],j] > 0):\n",
    "            xyz_pro[pbc_cross_1[0][i],table_pro.chainID==1,j] = xyz_pro[pbc_cross_1[0][i],table_pro.chainID==1,j] - traj.unitcell_lengths[pbc_cross_1[0][i],j]\n",
    "        else:\n",
    "            xyz_pro[pbc_cross_1[0][i],table_pro.chainID==1,j] = xyz_pro[pbc_cross_1[0][i],table_pro.chainID==1,j] + traj.unitcell_lengths[pbc_cross_1[0][i],j]\n",
    "\n",
    "    pbc_cross_2 = np.where(abs(chain1_center[:,j] - chain3_center[:,j])>4)\n",
    "    for i in range(len(pbc_cross_2[0])):\n",
    "        if(chain3_center[pbc_cross_2[0][i],j] - chain1_center[pbc_cross_2[0][i],j] > 0):\n",
    "            xyz_pro[pbc_cross_2[0][i],table_pro.chainID==2,j] = xyz_pro[pbc_cross_2[0][i],table_pro.chainID==2,j] - traj.unitcell_lengths[pbc_cross_2[0][i],j]\n",
    "        else:\n",
    "            xyz_pro[pbc_cross_2[0][i],table_pro.chainID==2,j] = xyz_pro[pbc_cross_2[0][i],table_pro.chainID==2,j] + traj.unitcell_lengths[pbc_cross_2[0][i],j]"
   ]
  },
  {
   "cell_type": "code",
   "execution_count": 29,
   "metadata": {},
   "outputs": [],
   "source": [
    "chain1_center = np.mean(xyz_pro[:,table_pro.chainID==0,:],axis=1)\n",
    "chain2_center = np.mean(xyz_pro[:,table_pro.chainID==1,:],axis=1)\n",
    "chain3_center = np.mean(xyz_pro[:,table_pro.chainID==2,:],axis=1)\n"
   ]
  },
  {
   "cell_type": "code",
   "execution_count": 30,
   "metadata": {},
   "outputs": [
    {
     "data": {
      "text/plain": [
       "(array([], dtype=int64),)"
      ]
     },
     "execution_count": 30,
     "metadata": {},
     "output_type": "execute_result"
    }
   ],
   "source": [
    "j=0\n",
    "pbc_cross_1 = np.where(abs(chain1_center[:,j] - chain2_center[:,j])>4)\n",
    "pbc_cross_1\n",
    "pbc_cross_2 = np.where(abs(chain1_center[:,j] - chain3_center[:,j])>4)\n",
    "pbc_cross_2"
   ]
  },
  {
   "cell_type": "code",
   "execution_count": null,
   "metadata": {},
   "outputs": [],
   "source": [
    "chain1_center = np.mean(xyz_pro[:,table_pro.chainID==0,:],axis=1)\n",
    "chain2_center = np.mean(xyz_pro[:,table_pro.chainID==1,:],axis=1)\n",
    "chain3_center = np.mean(xyz_pro[:,table_pro.chainID==2,:],axis=1)\n",
    "\n",
    "for j in range(3):\n",
    "    pbc_cross_1 = np.where(abs(chain1_center[:,j] - chain2_center[:,j])>4)\n",
    "    for i in range(len(pbc_cross_1[0])):\n",
    "        if(chain2_center[pbc_cross_1[0][i],j] - chain1_center[pbc_cross_1[0][i],j] > 0):\n",
    "            xyz_pro[pbc_cross_1[0][i],table_pro.chainID==1,j] = xyz_pro[pbc_cross_1[0][i],table_pro.chainID==1,j] - traj.unitcell_lengths[pbc_cross_1[0][i],j]\n",
    "        else:\n",
    "            xyz_pro[pbc_cross_1[0][i],table_pro.chainID==1,j] = xyz_pro[pbc_cross_1[0][i],table_pro.chainID==1,j] + traj.unitcell_lengths[pbc_cross_1[0][i],j]\n",
    "\n",
    "    pbc_cross_2 = np.where(abs(chain1_center[:,j] - chain3_center[:,j])>4)\n",
    "    for i in range(len(pbc_cross_2[0])):\n",
    "        if(chain3_center[pbc_cross_2[0][i],j] - chain1_center[pbc_cross_2[0][i],j] > 0):\n",
    "            xyz_pro[pbc_cross_2[0][i],table_pro.chainID==2,j] = xyz_pro[pbc_cross_2[0][i],table_pro.chainID==2,j] - traj.unitcell_lengths[pbc_cross_2[0][i],j]\n",
    "        else:\n",
    "            xyz_pro[pbc_cross_2[0][i],table_pro.chainID==1,j] = xyz_pro[pbc_cross_2[0][i],table_pro.chainID==2,j] + traj.unitcell_lengths[pbc_cross_2[0][i],j]"
   ]
  },
  {
   "cell_type": "code",
   "execution_count": null,
   "metadata": {},
   "outputs": [],
   "source": [
    "len(pbc_cross_2[0])"
   ]
  },
  {
   "cell_type": "code",
   "execution_count": null,
   "metadata": {},
   "outputs": [],
   "source": [
    "chain2_center[pbc_cross_2[0][i],j] - chain1_center[pbc_cross_2[0][i],j] > 0"
   ]
  },
  {
   "cell_type": "code",
   "execution_count": null,
   "metadata": {},
   "outputs": [],
   "source": [
    "j=0\n",
    "pbc_cross_1 = np.where(abs(chain1_center[:,j] - chain2_center[:,j])>4)\n",
    "pbc_cross_1 "
   ]
  },
  {
   "cell_type": "code",
   "execution_count": null,
   "metadata": {},
   "outputs": [],
   "source": [
    "pbc_cross_2 = np.where(abs(chain1_center[:,j] - chain3_center[:,j])>4)"
   ]
  },
  {
   "cell_type": "code",
   "execution_count": null,
   "metadata": {},
   "outputs": [],
   "source": [
    "i=0\n",
    "traj.unitcell_lengths[pbc_cross_2[0][i],j]"
   ]
  },
  {
   "cell_type": "code",
   "execution_count": null,
   "metadata": {},
   "outputs": [],
   "source": [
    "xyz_pro[1895,:,0] - xyz_pro_origin[1895,:,0]"
   ]
  },
  {
   "cell_type": "code",
   "execution_count": null,
   "metadata": {},
   "outputs": [],
   "source": [
    "i=0\n",
    "chain2_center[pbc_cross_1[0][i],j] - chain1_center[pbc_cross_1[0][i],j] > 0"
   ]
  },
  {
   "cell_type": "code",
   "execution_count": null,
   "metadata": {},
   "outputs": [],
   "source": [
    "pbc_cross_x = np.where(abs(chain1_center[:,0] - chain2_center[:,0])>4)\n",
    "pbc_cross_x[0][0]"
   ]
  },
  {
   "cell_type": "code",
   "execution_count": null,
   "metadata": {},
   "outputs": [],
   "source": [
    "len(pbc_cross_x[0])"
   ]
  },
  {
   "cell_type": "code",
   "execution_count": null,
   "metadata": {},
   "outputs": [],
   "source": [
    "chain2_center[pbc_cross_x[0][0],0] - chain1_center[pbc_cross_x[0][0],0]"
   ]
  },
  {
   "cell_type": "code",
   "execution_count": null,
   "metadata": {},
   "outputs": [],
   "source": [
    "traj.unitcell_lengths"
   ]
  },
  {
   "cell_type": "code",
   "execution_count": 5,
   "metadata": {},
   "outputs": [],
   "source": [
    "def fit_curve(frame_num,s_num,trunc,poly):\n",
    "    \n",
    "    n_diff = 260\n",
    "    n_overlap = 20\n",
    "    \n",
    "    global xyz_pro_fit_center\n",
    "    \n",
    "    x_fit = xyz_pro_fit_center[frame_num,:,0]\n",
    "    y_fit = xyz_pro_fit_center[frame_num,:,1]\n",
    "    z_fit = xyz_pro_fit_center[frame_num,:,2]\n",
    "\n",
    "    x_fit_norm = x_fit - np.mean(x_fit)\n",
    "    y_fit_norm = y_fit - np.mean(y_fit)\n",
    "    z_fit_norm = z_fit - np.mean(z_fit)\n",
    "\n",
    "    x_fit_norm1 = x_fit_norm[:n_diff+n_overlap]\n",
    "    y_fit_norm1 = y_fit_norm[:n_diff+n_overlap]\n",
    "    z_fit_norm1 = z_fit_norm[:n_diff+n_overlap]\n",
    "    points_data1 = np.array([x_fit_norm1,y_fit_norm1,z_fit_norm1])\n",
    "    covMatrix1 = np.cov(points_data1)\n",
    "    a1,b1 = np.linalg.eigh(covMatrix1)\n",
    "\n",
    "    x_rotate1 = np.dot(b1.T, points_data1)[0,:]\n",
    "    y_rotate1 = np.dot(b1.T, points_data1)[1,:]\n",
    "    z_rotate1 = np.dot(b1.T, points_data1)[2,:]\n",
    "\n",
    "    lowess = sm.nonparametric.lowess\n",
    "    xz1 = lowess(x_rotate1, z_rotate1, frac = 0.1, it=10)\n",
    "    yz1 = lowess(y_rotate1, z_rotate1, frac = 0.1, it=10)\n",
    "    xyz1 = [xz1[np.unique(xz1[:,0], return_index=True)[1],1],yz1[np.unique(xz1[:,0], return_index=True)[1],1],xz1[np.unique(xz1[:,0], return_index=True)[1],0]]\n",
    "\n",
    "    xyz1_final = np.dot(np.linalg.inv(b1.T), xyz1)\n",
    "    if(np.dot(xyz1_final[:,-1]-xyz1_final[:,0], points_data1[:,-1]-points_data1[:,0])<0):\n",
    "        xyz1_final = xyz1_final[:, ::-1]\n",
    "\n",
    "\n",
    "    x_fit_norm2 = x_fit_norm[n_diff-n_overlap:]\n",
    "    y_fit_norm2 = y_fit_norm[n_diff-n_overlap:]\n",
    "    z_fit_norm2 = z_fit_norm[n_diff-n_overlap:]\n",
    "    points_data2 = np.array([x_fit_norm2,y_fit_norm2,z_fit_norm2])\n",
    "\n",
    "    covMatrix2 = np.cov(points_data2)\n",
    "    a2,b2 = np.linalg.eigh(covMatrix2)\n",
    "\n",
    "    x_rotate2 = np.dot(b2.T, points_data2)[0,:]\n",
    "    y_rotate2 = np.dot(b2.T, points_data2)[1,:]\n",
    "    z_rotate2 = np.dot(b2.T, points_data2)[2,:]\n",
    "\n",
    "    lowess = sm.nonparametric.lowess\n",
    "    xz2 = lowess(x_rotate2, z_rotate2, frac = 0.1, it=10)\n",
    "    yz2 = lowess(y_rotate2, z_rotate2, frac = 0.1, it=10)\n",
    "    xyz2 = [xz2[np.unique(xz2[:,0], return_index=True)[1],1],yz2[np.unique(xz2[:,0], return_index=True)[1],1],xz2[np.unique(xz2[:,0], return_index=True)[1],0]]\n",
    "\n",
    "    xyz2_final = np.dot(np.linalg.inv(b2.T), xyz2)\n",
    "    if(np.dot(xyz2_final[:,-1]-xyz2_final[:,0], points_data2[:,-1]-points_data2[:,0])<0):\n",
    "        xyz2_final = xyz2_final[:, ::-1]\n",
    "\n",
    "    #xyz_final = np.append(np.append(xyz1_final[:,:n_diff-n_overlap], (xyz1_final[:,n_diff-n_overlap:n_diff+n_overlap]+xyz2_final[:,:2*n_overlap])/2 ,axis=1), xyz2_final[:,2*n_overlap:],axis=1)\n",
    "\n",
    "    xyz_final = np.append(np.append(xyz1_final[:,:-2*n_overlap], (xyz1_final[:,-2*n_overlap:]+xyz2_final[:,:2*n_overlap])/2 ,axis=1), xyz2_final[:,2*n_overlap:],axis=1)\n",
    "\n",
    "\n",
    "    tck,u = interpolate.splprep(xyz_final,k=poly,s=trunc)\n",
    "    u = np.linspace(0,1,s_num)\n",
    "    fit_out = np.array(interpolate.splev(u,tck))\n",
    "    fit_out[0,:] = fit_out[0,:] + np.mean(x_fit)\n",
    "    fit_out[1,:] = fit_out[1,:] + np.mean(y_fit)\n",
    "    fit_out[2,:] = fit_out[2,:] + np.mean(z_fit)\n",
    "    \n",
    "    z_tm_n = xyz_pro_fit_center[frame_num,1213-912,2]\n",
    "    #out = fit_out[:,fit_out[2] > z_tm_n]\n",
    "    out = fit_out.copy()\n",
    "    \n",
    "    return out[0], out[1], out[2]"
   ]
  },
  {
   "cell_type": "code",
   "execution_count": null,
   "metadata": {},
   "outputs": [],
   "source": [
    "#poly = 4\n",
    "#trunc = 4.0\n",
    "n_diff = 260\n",
    "n_overlap = 20\n",
    "frame_num = 1068\n",
    "\n",
    "global xyz_pro_fit_center\n",
    "\n",
    "x_fit = xyz_pro_fit_center[frame_num,:,0]\n",
    "y_fit = xyz_pro_fit_center[frame_num,:,1]\n",
    "z_fit = xyz_pro_fit_center[frame_num,:,2]\n",
    "\n",
    "x_fit_norm = x_fit - np.mean(x_fit)\n",
    "y_fit_norm = y_fit - np.mean(y_fit)\n",
    "z_fit_norm = z_fit - np.mean(z_fit)\n",
    "\n",
    "x_fit_norm1 = x_fit_norm[:n_diff+n_overlap]\n",
    "y_fit_norm1 = y_fit_norm[:n_diff+n_overlap]\n",
    "z_fit_norm1 = z_fit_norm[:n_diff+n_overlap]\n",
    "points_data1 = np.array([x_fit_norm1,y_fit_norm1,z_fit_norm1])\n",
    "covMatrix1 = np.cov(points_data1)\n",
    "a1,b1 = np.linalg.eigh(covMatrix1)\n",
    "\n",
    "x_rotate1 = np.dot(b1.T, points_data1)[0,:]\n",
    "y_rotate1 = np.dot(b1.T, points_data1)[1,:]\n",
    "z_rotate1 = np.dot(b1.T, points_data1)[2,:]\n",
    "\n",
    "lowess = sm.nonparametric.lowess\n",
    "xz1 = lowess(x_rotate1, z_rotate1, frac = 0.1, it=10)\n",
    "yz1 = lowess(y_rotate1, z_rotate1, frac = 0.1, it=10)\n",
    "xyz1 = np.array([xz1[np.unique(xz1[:,0], return_index=True)[1],1],yz1[np.unique(xz1[:,0], return_index=True)[1],1],xz1[np.unique(xz1[:,0], return_index=True)[1],0]])\n",
    "\n",
    "xyz1_final = np.dot(np.linalg.inv(b1.T), xyz1)\n",
    "if(np.dot(xyz1_final[:,-1]-xyz1_final[:,0], points_data1[:,-1]-points_data1[:,0])<0):\n",
    "    xyz1_final = xyz1_final[:, ::-1]\n",
    "\n",
    "\n",
    "x_fit_norm2 = x_fit_norm[n_diff-n_overlap:]\n",
    "y_fit_norm2 = y_fit_norm[n_diff-n_overlap:]\n",
    "z_fit_norm2 = z_fit_norm[n_diff-n_overlap:]\n",
    "points_data2 = np.array([x_fit_norm2,y_fit_norm2,z_fit_norm2])\n",
    "\n",
    "covMatrix2 = np.cov(points_data2)\n",
    "a2,b2 = np.linalg.eigh(covMatrix2)\n",
    "\n",
    "x_rotate2 = np.dot(b2.T, points_data2)[0,:]\n",
    "y_rotate2 = np.dot(b2.T, points_data2)[1,:]\n",
    "z_rotate2 = np.dot(b2.T, points_data2)[2,:]\n",
    "\n",
    "lowess = sm.nonparametric.lowess\n",
    "xz2 = lowess(x_rotate2, z_rotate2, frac = 0.1, it=20)\n",
    "yz2 = lowess(y_rotate2, z_rotate2, frac = 0.1, it=20)\n",
    "xyz2 = np.array([xz2[np.unique(xz2[:,0], return_index=True)[1],1],yz2[np.unique(xz2[:,0], return_index=True)[1],1],xz2[np.unique(xz2[:,0], return_index=True)[1],0]])\n",
    "\n",
    "xyz2_final = np.dot(np.linalg.inv(b2.T), xyz2)\n",
    "if(np.dot(xyz2_final[:,-1]-xyz2_final[:,0], points_data2[:,-1]-points_data2[:,0])<0):\n",
    "    xyz2_final = xyz2_final[:, ::-1]"
   ]
  },
  {
   "cell_type": "code",
   "execution_count": null,
   "metadata": {},
   "outputs": [],
   "source": [
    "np.shape(xyz1)"
   ]
  },
  {
   "cell_type": "code",
   "execution_count": null,
   "metadata": {},
   "outputs": [],
   "source": [
    "xyz_final = np.append(np.append(xyz1_final[:,:-n_overlap], (xyz1_final[:,-2*n_overlap:]+xyz2_final[:,:2*n_overlap])/2 ,axis=1), xyz2_final[:,2*n_overlap:],axis=1)"
   ]
  },
  {
   "cell_type": "code",
   "execution_count": null,
   "metadata": {},
   "outputs": [],
   "source": [
    "tck,u = interpolate.splprep(xyz_final,k=poly,s=trunc)\n",
    "u = np.linspace(0,1,s_num)\n",
    "fit_out = np.array(interpolate.splev(u,tck))\n",
    "fit_out[0,:] = fit_out[0,:] + np.mean(x_fit)\n",
    "fit_out[1,:] = fit_out[1,:] + np.mean(y_fit)\n",
    "fit_out[2,:] = fit_out[2,:] + np.mean(z_fit)"
   ]
  },
  {
   "cell_type": "code",
   "execution_count": null,
   "metadata": {},
   "outputs": [],
   "source": [
    "x_inter = fit_out[0,:]\n",
    "y_inter = fit_out[1,:]\n",
    "z_inter = fit_out[2,:]"
   ]
  },
  {
   "cell_type": "code",
   "execution_count": null,
   "metadata": {},
   "outputs": [],
   "source": [
    "lowess = sm.nonparametric.lowess\n",
    "xz2 = lowess(x_rotate2, z_rotate2, frac = 0.1, it=10)\n",
    "yz2 = lowess(y_rotate2, z_rotate2, frac = 0.1, it=10)\n",
    "xyz2 = np.array([xz2[np.unique(xz2[:,0], return_index=True)[1],1],yz2[np.unique(xz2[:,0], return_index=True)[1],1],xz2[np.unique(xz2[:,0], return_index=True)[1],0]])"
   ]
  },
  {
   "cell_type": "code",
   "execution_count": null,
   "metadata": {},
   "outputs": [],
   "source": [
    "#plt.plot(xyz2[2,:], xyz2[0,:], 'ro', ms=1)\n",
    "#plt.plot(z_fit_norm2, y_fit_norm2, 'bo', ms=1)\n",
    "plt.plot(fit_out[2,:]-np.mean(z_fit),fit_out[1,:]-np.mean(y_fit))\n",
    "plt.plot(fit_out[2,:]-np.mean(z_fit),fit_out[0,:]-np.mean(x_fit))"
   ]
  },
  {
   "cell_type": "code",
   "execution_count": null,
   "metadata": {},
   "outputs": [],
   "source": []
  },
  {
   "cell_type": "code",
   "execution_count": null,
   "metadata": {},
   "outputs": [],
   "source": []
  },
  {
   "cell_type": "code",
   "execution_count": null,
   "metadata": {},
   "outputs": [],
   "source": [
    "plt.plot(xyz2_final[2,:], xyz2_final[0,:], 'ro', ms=1)\n",
    "plt.plot(z_fit_norm2, x_fit_norm2, 'bo', ms=1)"
   ]
  },
  {
   "cell_type": "code",
   "execution_count": null,
   "metadata": {},
   "outputs": [],
   "source": [
    "plt.plot(xz2[:,0],xz2[:,1])"
   ]
  },
  {
   "cell_type": "code",
   "execution_count": null,
   "metadata": {},
   "outputs": [],
   "source": [
    "np.shape(xyz_final)"
   ]
  },
  {
   "cell_type": "code",
   "execution_count": null,
   "metadata": {},
   "outputs": [],
   "source": [
    "z_tm_n = xyz_pro_fit_center[frame_num,1213-912,2]\n",
    "\n",
    "s_inter = np.zeros(np.shape(z_inter))\n",
    "s_inter[1:] = np.cumsum(np.sqrt((x_inter[1:]-x_inter[:-1])**2 + (y_inter[1:]-y_inter[:-1])**2 + (z_inter[1:]-z_inter[:-1])**2))\n",
    "\n",
    "s_num_total = round((s_num-1)/(len(z_inter[z_inter > z_tm_n])-1)*(len(z_inter)-1)+1)\n",
    "\n",
    "s_ei = np.linspace(0, s_inter[-1], s_num_total)\n",
    "fsx = interp1d(s_inter, x_inter, kind='cubic')\n",
    "fsy = interp1d(s_inter, y_inter, kind='cubic')\n",
    "fsz = interp1d(s_inter, z_inter, kind='cubic')\n",
    "x_s = fsx(s_ei)\n",
    "y_s = fsy(s_ei)\n",
    "z_s = fsz(s_ei)\n",
    "\n",
    "d2rds2 = np.zeros((3, len(s_ei)))\n",
    "ds = s_ei[1] - s_ei[0]\n",
    "d2rds2[0,1:-1] = (x_s[2:] + x_s[:-2] - 2 * x_s[1:-1])/ds**2\n",
    "d2rds2[0,0] = (2*x_s[0] -5*x_s[1] +4*x_s[2] -1*x_s[3])/ds**2\n",
    "d2rds2[0,-1] = (2*x_s[-1] -5*x_s[-2] +4*x_s[-3] -1*x_s[-4])/ds**2\n",
    "d2rds2[1,1:-1] = (y_s[2:] + y_s[:-2] - 2 * y_s[1:-1])/ds**2\n",
    "d2rds2[1,0] = (2*y_s[0] -5*y_s[1] +4*y_s[2] -1*y_s[3])/ds**2\n",
    "d2rds2[1,-1] = (2*y_s[-1] -5*y_s[-2] +4*y_s[-3] -1*y_s[-4])/ds**2\n",
    "d2rds2[2,1:-1] = (z_s[2:] + z_s[:-2] - 2 * z_s[1:-1])/ds**2\n",
    "d2rds2[2,0] = (2*z_s[0] -5*z_s[1] +4*z_s[2] -1*z_s[3])/ds**2\n",
    "d2rds2[2,-1] = (2*z_s[-1] -5*z_s[-2] +4*z_s[-3] -1*z_s[-4])/ds**2\n",
    "\n",
    "curvature_s = np.linalg.norm(d2rds2, axis=0)\n",
    "xyz_s = [x_s, y_s, z_s]"
   ]
  },
  {
   "cell_type": "code",
   "execution_count": null,
   "metadata": {},
   "outputs": [],
   "source": [
    "plt.plot(np.linspace(0,1,s_num),curvature_s[:s_num])"
   ]
  },
  {
   "cell_type": "code",
   "execution_count": 6,
   "metadata": {},
   "outputs": [],
   "source": [
    "def cal_curvature(frame_num,s_num):\n",
    "    \n",
    "    global xyz_pro_fit_center\n",
    "    \n",
    "    x_inter, y_inter, z_inter = fit_curve(frame_num,s_num,trunc,poly)\n",
    "    z_tm_n = xyz_pro_fit_center[frame_num,1213-912,2]\n",
    "    \n",
    "    s_inter = np.zeros(np.shape(z_inter))\n",
    "    s_inter[1:] = np.cumsum(np.sqrt((x_inter[1:]-x_inter[:-1])**2 + (y_inter[1:]-y_inter[:-1])**2 + (z_inter[1:]-z_inter[:-1])**2))\n",
    "    \n",
    "    s_num_total = round((s_num-1)/(len(z_inter[z_inter > z_tm_n])-1)*(len(z_inter)-1)+1)\n",
    "    \n",
    "    s_ei = np.linspace(0, s_inter[-1], s_num_total)\n",
    "    fsx = interp1d(s_inter, x_inter, kind='cubic')\n",
    "    fsy = interp1d(s_inter, y_inter, kind='cubic')\n",
    "    fsz = interp1d(s_inter, z_inter, kind='cubic')\n",
    "    x_s = fsx(s_ei)\n",
    "    y_s = fsy(s_ei)\n",
    "    z_s = fsz(s_ei)\n",
    "    \n",
    "    d2rds2 = np.zeros((3, len(s_ei)))\n",
    "    ds = s_ei[1] - s_ei[0]\n",
    "    d2rds2[0,1:-1] = (x_s[2:] + x_s[:-2] - 2 * x_s[1:-1])/ds**2\n",
    "    d2rds2[0,0] = (2*x_s[0] -5*x_s[1] +4*x_s[2] -1*x_s[3])/ds**2\n",
    "    d2rds2[0,-1] = (2*x_s[-1] -5*x_s[-2] +4*x_s[-3] -1*x_s[-4])/ds**2\n",
    "    d2rds2[1,1:-1] = (y_s[2:] + y_s[:-2] - 2 * y_s[1:-1])/ds**2\n",
    "    d2rds2[1,0] = (2*y_s[0] -5*y_s[1] +4*y_s[2] -1*y_s[3])/ds**2\n",
    "    d2rds2[1,-1] = (2*y_s[-1] -5*y_s[-2] +4*y_s[-3] -1*y_s[-4])/ds**2\n",
    "    d2rds2[2,1:-1] = (z_s[2:] + z_s[:-2] - 2 * z_s[1:-1])/ds**2\n",
    "    d2rds2[2,0] = (2*z_s[0] -5*z_s[1] +4*z_s[2] -1*z_s[3])/ds**2\n",
    "    d2rds2[2,-1] = (2*z_s[-1] -5*z_s[-2] +4*z_s[-3] -1*z_s[-4])/ds**2\n",
    "    \n",
    "    curvature_s = np.linalg.norm(d2rds2, axis=0)\n",
    "    xyz_s = [x_s, y_s, z_s]\n",
    "    \n",
    "    return s_ei, curvature_s, xyz_s"
   ]
  },
  {
   "cell_type": "code",
   "execution_count": 1,
   "metadata": {},
   "outputs": [],
   "source": [
    "def set_animation2():\n",
    "    global fig, ax, X, Y, Z, plot1, plot2, plot3, txt, Xb, Yb,Zb, txt\n",
    "    fig = plt.figure(figsize=(10,10))\n",
    "    fig.subplots_adjust(left=0.1, right=0.9, bottom=0.1, top=0.9)\n",
    "    ax = fig.add_subplot(111, autoscale_on=False, projection='3d')    \n",
    "    ax.set_zlim([0,30])\n",
    "    ax.set_xlim([0,30])\n",
    "    ax.set_ylim([0,50])\n",
    "    ax.axis('off')\n",
    "    ax.set_proj_type('ortho')\n",
    "    \n",
    "    plot1, = ax.plot3D([],[],[],'o',ms=3,alpha=0.2,c='tab:blue')\n",
    "    plot2, = ax.plot3D([],[],[],'r',lw=1)\n",
    "    plot3, = ax.plot3D([],[],[],'o',ms=2,alpha=0.1,c='tab:green')\n",
    "    txt = ax.text2D(0.65, 0.95, \"2D Text\", transform=ax.transAxes, fontsize=14)\n",
    "    \n",
    "    plt.close(fig)\n",
    "\n",
    "def init2():\n",
    "    #plot1.set_data_3d(X,Y,Z) \n",
    "    #plot2.set_data_3d(xz[:,1], yz[:,1], xz[:,0])\n",
    "    return plot1, plot2\n",
    "\n",
    "def animate2(i):\n",
    "    #global Xb,Yb,Zb\n",
    "    frame_num = i + frame_start\n",
    "    \n",
    "    X = xyz_pro[frame_num,:,0]\n",
    "    Y = xyz_pro[frame_num,:,1]\n",
    "    Z = xyz_pro[frame_num,:,2]\n",
    "    \n",
    "    curve_x, curve_y, curve_z =  fit_curve(frame_num,s_num,trunc,poly)\n",
    "    \n",
    "    X_DPPC = xyz_dppc[frame_num,:,0]\n",
    "    Y_DPPC = xyz_dppc[frame_num,:,1]\n",
    "    Z_DPPC = xyz_dppc[frame_num,:,2]\n",
    "    \n",
    "    plot1.set_data_3d(X,Y,Z) \n",
    "    plot2.set_data_3d(curve_x, curve_y, curve_z)\n",
    "    plot3.set_data_3d(X_DPPC, Y_DPPC, Z_DPPC)\n",
    "    \n",
    "    ax.view_init(elev=0.,azim=0)\n",
    "    \n",
    "    txt.set_text('time = %d ns' %(frame_num-frame_start))\n",
    "    \n",
    "    return plot1, plot2, plot3, txt\n",
    "    "
   ]
  },
  {
   "cell_type": "code",
   "execution_count": 2,
   "metadata": {},
   "outputs": [
    {
     "ename": "NameError",
     "evalue": "name 'read_traj' is not defined",
     "output_type": "error",
     "traceback": [
      "\u001b[0;31m---------------------------------------------------------------------------\u001b[0m",
      "\u001b[0;31mNameError\u001b[0m                                 Traceback (most recent call last)",
      "\u001b[0;32m<ipython-input-2-1403e7ea8fb4>\u001b[0m in \u001b[0;36m<module>\u001b[0;34m\u001b[0m\n\u001b[1;32m      1\u001b[0m \u001b[0mindex\u001b[0m \u001b[0;34m=\u001b[0m \u001b[0;36m1\u001b[0m\u001b[0;34m\u001b[0m\u001b[0;34m\u001b[0m\u001b[0m\n\u001b[0;32m----> 2\u001b[0;31m \u001b[0mread_traj\u001b[0m\u001b[0;34m(\u001b[0m\u001b[0mindex\u001b[0m\u001b[0;34m)\u001b[0m\u001b[0;34m\u001b[0m\u001b[0;34m\u001b[0m\u001b[0m\n\u001b[0m",
      "\u001b[0;31mNameError\u001b[0m: name 'read_traj' is not defined"
     ]
    }
   ],
   "source": [
    "index = 1\n",
    "read_traj(index)"
   ]
  },
  {
   "cell_type": "code",
   "execution_count": 3,
   "metadata": {},
   "outputs": [
    {
     "ename": "NameError",
     "evalue": "name 'plt' is not defined",
     "output_type": "error",
     "traceback": [
      "\u001b[0;31m---------------------------------------------------------------------------\u001b[0m",
      "\u001b[0;31mNameError\u001b[0m                                 Traceback (most recent call last)",
      "\u001b[0;32m<ipython-input-3-cd70a2c566bd>\u001b[0m in \u001b[0;36m<module>\u001b[0;34m\u001b[0m\n\u001b[1;32m      4\u001b[0m \u001b[0mpoly\u001b[0m \u001b[0;34m=\u001b[0m \u001b[0;36m4\u001b[0m\u001b[0;34m\u001b[0m\u001b[0;34m\u001b[0m\u001b[0m\n\u001b[1;32m      5\u001b[0m \u001b[0;34m\u001b[0m\u001b[0m\n\u001b[0;32m----> 6\u001b[0;31m \u001b[0mplt\u001b[0m\u001b[0;34m.\u001b[0m\u001b[0mclose\u001b[0m\u001b[0;34m(\u001b[0m\u001b[0;34m'all'\u001b[0m\u001b[0;34m)\u001b[0m\u001b[0;34m\u001b[0m\u001b[0;34m\u001b[0m\u001b[0m\n\u001b[0m\u001b[1;32m      7\u001b[0m \u001b[0mset_animation2\u001b[0m\u001b[0;34m(\u001b[0m\u001b[0;34m)\u001b[0m\u001b[0;34m\u001b[0m\u001b[0;34m\u001b[0m\u001b[0m\n\u001b[1;32m      8\u001b[0m \u001b[0;31m# Animate\u001b[0m\u001b[0;34m\u001b[0m\u001b[0;34m\u001b[0m\u001b[0;34m\u001b[0m\u001b[0m\n",
      "\u001b[0;31mNameError\u001b[0m: name 'plt' is not defined"
     ]
    }
   ],
   "source": [
    "frame_start = 200\n",
    "s_num = 1001\n",
    "trunc = 4.0\n",
    "poly = 4\n",
    "\n",
    "plt.close('all')\n",
    "set_animation2()\n",
    "# Animate\n",
    "anim = animation.FuncAnimation(fig, animate2, init_func=init2,\n",
    "                               frames=300-frame_start, interval=20, blit=True)\n",
    "HTML(anim.to_jshtml())"
   ]
  },
  {
   "cell_type": "code",
   "execution_count": null,
   "metadata": {},
   "outputs": [],
   "source": []
  },
  {
   "cell_type": "code",
   "execution_count": 10,
   "metadata": {},
   "outputs": [],
   "source": [
    "def plot_snapshot(frame_num):\n",
    "    \n",
    "    fig = plt.figure(figsize=(12,12))\n",
    "    ax = plt.axes(projection='3d')\n",
    "    ax.set_proj_type('ortho')\n",
    "    ax.axis('off')\n",
    "    \n",
    "    X = xyz_pro[frame_num,:,0]\n",
    "    Y = xyz_pro[frame_num,:,1]\n",
    "    Z = xyz_pro[frame_num,:,2]\n",
    "\n",
    "    curve_x, curve_y, curve_z =  fit_curve(frame_num,s_num,trunc,poly)\n",
    "\n",
    "    X_DPPC = xyz_dppc[frame_num,:,0]\n",
    "    Y_DPPC = xyz_dppc[frame_num,:,1]\n",
    "    Z_DPPC = xyz_dppc[frame_num,:,2]\n",
    "\n",
    "    # Create cubic bounding box to simulate equal aspect ratio\n",
    "    max_range = np.array([X_DPPC.max()-X_DPPC.min(), Y_DPPC.max()-Y_DPPC.min(), Z.max()-Z.min()]).max()\n",
    "    Xb = 0.5*max_range*np.mgrid[-1:2:2,-1:2:2,-1:2:2][0].flatten() + 0.5*(X_DPPC.max()+X_DPPC.min())\n",
    "    Yb = 0.5*max_range*np.mgrid[-1:2:2,-1:2:2,-1:2:2][1].flatten() + 0.5*(Y_DPPC.max()+Y_DPPC.min())\n",
    "    Zb = 0.5*max_range*np.mgrid[-1:2:2,-1:2:2,-1:2:2][2].flatten() + 0.5*(Z.max()+Z.min())\n",
    "    \n",
    "    # Comment or uncomment following both lines to test the fake bounding box:\n",
    "    for xb, yb, zb in zip(Xb, Yb, Zb):\n",
    "        ax.plot([xb], [yb], [zb], 'w')\n",
    "    \n",
    "    plot0, = ax.plot3D([],[],[],'o',ms=3,alpha=0.2,c='tab:purple')\n",
    "    plot1, = ax.plot3D([],[],[],'o',ms=3,alpha=0.2,c='tab:blue')\n",
    "    plot2, = ax.plot3D([],[],[],'r',lw=3)\n",
    "    plot3, = ax.plot3D([],[],[],'o',ms=2,alpha=0.1,c='tab:green')\n",
    "    \n",
    "    plot0.set_data_3d(X[(table_pro.resSeq<911)&(table_pro.resSeq>813)],Y[(table_pro.resSeq<911)&(table_pro.resSeq>813)],Z[(table_pro.resSeq<911)&(table_pro.resSeq>813)])\n",
    "    plot1.set_data_3d(X[table_pro.resSeq>911],Y[table_pro.resSeq>911], Z[table_pro.resSeq>911]) \n",
    "    plot2.set_data_3d(curve_x, curve_y, curve_z)\n",
    "    plot3.set_data_3d(X_DPPC, Y_DPPC, Z_DPPC)\n",
    "\n",
    "    ax.view_init(elev=0.)\n",
    "    "
   ]
  },
  {
   "cell_type": "code",
   "execution_count": 33,
   "metadata": {},
   "outputs": [
    {
     "data": {
      "text/plain": [
       "(0.0, 2.0)"
      ]
     },
     "execution_count": 33,
     "metadata": {},
     "output_type": "execute_result"
    },
    {
     "data": {
      "image/png": "[encoded data removed]",
      "text/plain": [
       "<Figure size 864x864 with 1 Axes>"
      ]
     },
     "metadata": {
      "needs_background": "light"
     },
     "output_type": "display_data"
    },
    {
     "data": {
      "image/png": "[encoded data removed]",
      "text/plain": [
       "<Figure size 864x576 with 1 Axes>"
      ]
     },
     "metadata": {
      "needs_background": "light"
     },
     "output_type": "display_data"
    }
   ],
   "source": [
    "## read_traj(5)\n",
    "# show one snapshot\n",
    "poly = 4\n",
    "trunc = 4\n",
    "s_num = 1001\n",
    "frame_num = 1901\n",
    "plot_snapshot(frame_num)\n",
    "s_ei, curvature_s, xyz_s = cal_curvature(frame_num, s_num)\n",
    "plt.figure(figsize=(12,8))\n",
    "plt.plot(np.linspace(0,1,s_num), curvature_s[:s_num])\n",
    "plt.ylim([0,2])"
   ]
  },
  {
   "cell_type": "code",
   "execution_count": null,
   "metadata": {},
   "outputs": [],
   "source": [
    "plt.plot(xyz_pro[frame_num,:,0],xyz_pro[frame_num,:,2],'bo',ms=1)"
   ]
  },
  {
   "cell_type": "code",
   "execution_count": null,
   "metadata": {},
   "outputs": [],
   "source": [
    "xyz_s = np.array(xyz_s)\n",
    "\n",
    "\n",
    "plt.plot(xyz_s[1,:],xyz_s[2,:])"
   ]
  },
  {
   "cell_type": "code",
   "execution_count": null,
   "metadata": {},
   "outputs": [],
   "source": [
    "np.shape(xyz_s[1,:])"
   ]
  },
  {
   "cell_type": "code",
   "execution_count": null,
   "metadata": {},
   "outputs": [],
   "source": []
  },
  {
   "cell_type": "code",
   "execution_count": null,
   "metadata": {},
   "outputs": [],
   "source": [
    "s_num"
   ]
  },
  {
   "cell_type": "code",
   "execution_count": null,
   "metadata": {},
   "outputs": [],
   "source": [
    "#s_num = 500\n",
    "#frame_num = 1070\n",
    "frame_num = 1005\n",
    "s_ei, curvature_s, xyz_s = cal_curvature(frame_num, s_num)\n",
    "plt.figure(figsize=(12,8))\n",
    "plt.plot(np.linspace(0,1,s_num), curvature_s[:s_num])"
   ]
  },
  {
   "cell_type": "code",
   "execution_count": null,
   "metadata": {},
   "outputs": [],
   "source": []
  },
  {
   "cell_type": "code",
   "execution_count": null,
   "metadata": {},
   "outputs": [],
   "source": [
    "def find_residue_position(frame_num):\n",
    "    \n",
    "    x_inter, y_inter, z_inter = fit_curve(frame_num,s_num,trunc,poly)\n",
    "    \n",
    "    s_inter = np.zeros(np.shape(z_inter))\n",
    "    s_inter[1:] = np.cumsum(np.sqrt((x_inter[1:]-x_inter[:-1])**2 + (y_inter[1:]-y_inter[:-1])**2 + (z_inter[1:]-z_inter[:-1])**2))\n",
    "    \n",
    "    position = np.zeros(1237-911)\n",
    "    \n",
    "    for i in range(1237-911):\n",
    "        position[i] = s_inter[np.argmin(np.linalg.norm([x_inter-xyz_pro_fit_center[frame_num,i,0], y_inter-xyz_pro_fit_center[frame_num,i,1], z_inter-xyz_pro_fit_center[frame_num,i,2]],axis=0))]\n",
    "    /\n",
    "    return position"
   ]
  },
  {
   "cell_type": "code",
   "execution_count": null,
   "metadata": {},
   "outputs": [],
   "source": [
    "#trunc = 1\n",
    "#s_num = 200\n",
    "#poly = 4\n",
    "\n",
    "trunc = 9.0\n",
    "s_num = 1001\n",
    "frame_total = 2000\n",
    "index_array = [1,2,3,4,5]\n",
    "#index_array = [5]\n",
    "curvature_t_5 =  np.zeros((len(index_array), frame_total, s_num))\n",
    "s_t_5 = np.zeros(np.shape(curvature_t_5))\n",
    "resi_s_5 = np.zeros((len(index_array),frame_total,1213-911))\n",
    "\n",
    "for j in range(len(index_array)):\n",
    "\n",
    "    frame_num = 0\n",
    "    read_traj(index_array[j])\n",
    "\n",
    "    curvature_t = np.zeros((frame_total, s_num))\n",
    "    s_t = np.zeros(np.shape(curvature_t))\n",
    "    #xyz_t = np.zeros((frame_total,3,s_num))\n",
    "\n",
    "    s_temp, curvature_temp, xyz_temp = cal_curvature(frame_num, s_num)\n",
    "\n",
    "    curvature_t[0,:] = curvature_temp[:s_num]\n",
    "    s_t[0,:] = s_temp[:s_num]\n",
    "    #xyz_t[0,:,:] = xyz_temp[:s_num]\n",
    "\n",
    "    pos_temp = find_residue_position(frame_num)\n",
    "    resi_s_5[j,0,:] = pos_temp[:1213-911]\n",
    "\n",
    "    for i in range (np.shape(curvature_t)[0]-1):\n",
    "        frame_num = frame_num + 1\n",
    "\n",
    "        s_temp, curvature_temp, xyz_temp = cal_curvature(frame_num, s_num)\n",
    "        s_t[i+1,:] = s_temp[:s_num]\n",
    "        curvature_t[i+1,:] = curvature_temp[:s_num]\n",
    "        #xyz_t[i+1,:,:] = xyz_temp[:s_num]\n",
    "        pos_temp = find_residue_position(frame_num)\n",
    "        resi_s_5[j,i+1,:] = pos_temp[:1213-911]\n",
    "\n",
    "    curvature_t_5[j,:,:] = curvature_t\n",
    "    s_t_5[j,:,:] = s_t\n"
   ]
  },
  {
   "cell_type": "code",
   "execution_count": null,
   "metadata": {},
   "outputs": [],
   "source": [
    "frame_num"
   ]
  },
  {
   "cell_type": "code",
   "execution_count": null,
   "metadata": {},
   "outputs": [],
   "source": [
    "np.save('curvature_trunc_%d.npy'%(int(trunc)),curvature_t)"
   ]
  },
  {
   "cell_type": "code",
   "execution_count": null,
   "metadata": {},
   "outputs": [],
   "source": [
    "mean_curvature = np.average(curvature_t_5[0,:,:], axis=0)\n",
    "fluc_curvature = np.std(curvature_t_5[0,:,:], axis=0)\n",
    "plt.plot(np.linspace(0,1,s_num), mean_curvature)\n",
    "plt.fill_between(np.linspace(0,1,s_num), mean_curvature-fluc_curvature, mean_curvature+fluc_curvature,color = 'g',alpha = 0.2)"
   ]
  },
  {
   "cell_type": "code",
   "execution_count": null,
   "metadata": {},
   "outputs": [],
   "source": [
    "matplotlib.rcParams.update({'font.size': 22})\n",
    "\n",
    "plt.figure(figsize=(20,6))\n",
    "for i in range(5):\n",
    "    plt.subplot(5,1,i+1)\n",
    "    mean_curvature = np.average(curvature_t_5[i,:,:], axis=0)\n",
    "    fluc_curvature = np.std(curvature_t_5[i,:,:], axis=0)\n",
    "    plt.plot(np.linspace(0,1,s_num), mean_curvature)\n",
    "    plt.fill_between(np.linspace(0,1,s_num), mean_curvature-fluc_curvature, mean_curvature+fluc_curvature,color = 'g',alpha = 0.2)\n",
    "    #plt.plot(np.linspace(0,1,s_num), fluc_curvature/np.sqrt(800))\n",
    "    #plt.plot([0,1],[0.12,0.12],'b--',lw=2)\n",
    "    plt.xlabel('relative arc length')\n",
    "    plt.ylabel('curvature (nm$^-1$)')\n",
    "    plt.ylim([0,5])\n",
    "#plt.tight_layout()"
   ]
  },
  {
   "cell_type": "code",
   "execution_count": null,
   "metadata": {},
   "outputs": [],
   "source": [
    "mean_curvature = np.average(curvature_t_5[:,:,:], axis=(0,1))\n",
    "fluc_curvature = np.std(curvature_t_5[:,:,:], axis=(0,1))\n",
    "plt.figure(figsize=(12,8))\n",
    "plt.plot(np.linspace(0,1,s_num), mean_curvature)\n",
    "plt.fill_between(np.linspace(0,1,s_num), mean_curvature-fluc_curvature, mean_curvature+fluc_curvature,color = 'g',alpha = 0.2)\n",
    "#plt.plot(np.linspace(0,1,s_num), fluc_curvature/np.sqrt(800))\n",
    "#plt.plot([0,1],[0.12,0.12],'b--',lw=2)\n",
    "plt.xlabel('relative arc length')\n",
    "plt.ylabel('curvature (nm$^-1$)')\n",
    "plt.ylim([-0.1,1.0])"
   ]
  },
  {
   "cell_type": "code",
   "execution_count": null,
   "metadata": {},
   "outputs": [],
   "source": [
    "np.shape(curvature_t_5)"
   ]
  },
  {
   "cell_type": "code",
   "execution_count": null,
   "metadata": {},
   "outputs": [],
   "source": []
  },
  {
   "cell_type": "code",
   "execution_count": null,
   "metadata": {},
   "outputs": [],
   "source": [
    "curvature_t_4 = curvature_t_5[[0,2,3,4],:,:]\n",
    "mean_curvature = np.average(curvature_t_4, axis=(0,1))\n",
    "fluc_curvature = np.std(curvature_t_4, axis=(0,1))\n",
    "plt.figure(figsize=(12,8))\n",
    "plt.plot(np.linspace(0,1,s_num), mean_curvature)\n",
    "plt.fill_between(np.linspace(0,1,s_num), mean_curvature-fluc_curvature, mean_curvature+fluc_curvature,color = 'g',alpha = 0.2)\n",
    "#plt.plot(np.linspace(0,1,s_num), fluc_curvature/np.sqrt(800))\n",
    "#plt.plot([0,1],[0.12,0.12],'b--',lw=2)\n",
    "plt.xlabel('relative arc length')\n",
    "plt.ylabel('curvature (nm$^-1$)')\n",
    "plt.ylim([-0.1,2.0])"
   ]
  },
  {
   "cell_type": "code",
   "execution_count": null,
   "metadata": {},
   "outputs": [],
   "source": [
    "from scipy.optimize import curve_fit\n",
    "def gaus3(x,*args):\n",
    "    a1,x1,sigma1,a2,x2,sigma2,a3,x3,sigma3,c = args\n",
    "    return a1*np.exp(-(x-x1)**2/(2*sigma1**2)) + a2*np.exp(-(x-x2)**2/(2*sigma2**2)) + a3*np.exp(-(x-x3)**2/(2*sigma3**2)) + c\n",
    "param_bounds=([0,0,0,0,0,0,0,0,0,0],[1,1,1,1,1,1,1,1,1,1])\n",
    "popt,pcov = curve_fit(gaus3,np.linspace(0,1,s_num),mean_curvature,p0=[0.4,0.65,0.05,0.2,0.85,0.05,0.2,0.95,0.05,0.1],maxfev = 2000000,bounds=param_bounds)\n",
    "popt"
   ]
  },
  {
   "cell_type": "code",
   "execution_count": null,
   "metadata": {},
   "outputs": [],
   "source": [
    "# mapping to the residues\n",
    "x1 = popt[1]; w1 = popt[2]\n",
    "x2 = popt[4]; w2 = popt[5]\n",
    "x3 = popt[7]; w3 = popt[8]\n",
    "\n",
    "mean_res_pos = np.mean(resi_s_3 / s_t_3[:,:,-1][:,:,np.newaxis], axis=(0,1))\n",
    "fac = 1\n",
    "range1 = (x1 - fac*np.sqrt(-np.log(3/4)*2*w1**2), x1 + fac*np.sqrt(-np.log(3/4)*2*w1**2))\n",
    "range2 = (x2 - fac*np.sqrt(-np.log(3/4)*2*w2**2), x2 + fac*np.sqrt(-np.log(3/4)*2*w2**2))\n",
    "range3 = (x3 - fac*np.sqrt(-np.log(3/4)*2*w3**2), x3 + fac*np.sqrt(-np.log(3/4)*2*w3**2))\n",
    "\n",
    "\n",
    "hinge1_resi = np.where((mean_res_pos > range1[0])&(mean_res_pos < range1[1]))[0]+912\n",
    "hinge2_resi = np.where((mean_res_pos > range2[0])&(mean_res_pos < range2[1]))[0]+912\n",
    "hinge3_resi = np.where((mean_res_pos > range3[0])&(mean_res_pos < range3[1]))[0]+912\n"
   ]
  },
  {
   "cell_type": "code",
   "execution_count": null,
   "metadata": {},
   "outputs": [],
   "source": [
    "mean_res_pos = np.mean(resi_s_5 / s_t_5[:,:,-1][:,:,np.newaxis], axis=(0,1))\n",
    "\n"
   ]
  },
  {
   "cell_type": "code",
   "execution_count": null,
   "metadata": {},
   "outputs": [],
   "source": [
    "plt.plot(np.linspace(912,1213,302),mean_res_pos)"
   ]
  },
  {
   "cell_type": "code",
   "execution_count": null,
   "metadata": {},
   "outputs": [],
   "source": [
    "print(range1,range2,range3)"
   ]
  },
  {
   "cell_type": "code",
   "execution_count": null,
   "metadata": {},
   "outputs": [],
   "source": [
    "plt.rcParams['font.family'] = \"Helvetica\"\n",
    "plt.rcParams['axes.linewidth'] = 2\n",
    "plt.rcParams['axes.labelsize'] = 20\n",
    "plt.rcParams['xtick.labelsize'] = 24\n",
    "plt.rcParams['ytick.labelsize'] = 24\n",
    "plt.rcParams['xtick.major.width'] = 2\n",
    "plt.rcParams['ytick.major.width'] = 2"
   ]
  },
  {
   "cell_type": "code",
   "execution_count": null,
   "metadata": {},
   "outputs": [],
   "source": [
    "plt.figure(figsize=(8,6))\n",
    "plt.plot(1-np.linspace(0,1,s_num), mean_curvature,linewidth=3)\n",
    "plt.fill_between(1-np.linspace(0,1,s_num), mean_curvature-fluc_curvature, mean_curvature+fluc_curvature,color = 'g',alpha = 0.2)\n",
    "plt.plot(1-np.linspace(0,1,s_num), gaus3(np.linspace(0,1,s_num), *popt),'--',linewidth=2)\n",
    "plt.plot([1-range1[0],1-range1[0]],[-0.1,gaus3(range1[0], *popt)], 'r--')\n",
    "plt.plot([1-range1[1],1-range1[1]],[-0.1,gaus3(range1[1], *popt)], 'r--')\n",
    "plt.plot([1-range2[0],1-range2[0]],[-0.1,gaus3(range2[0], *popt)], 'r--')\n",
    "plt.plot([1-range2[1],1-range2[1]],[-0.1,gaus3(range2[1], *popt)], 'r--')\n",
    "plt.plot([1-range3[0],1-range3[0]],[-0.1,gaus3(range3[0], *popt)], 'r--')\n",
    "plt.plot([1-range3[1],1-range3[1]],[-0.1,gaus3(range3[1], *popt)], 'r--')\n",
    "\n",
    "plt.fill_between(np.linspace(1-range1[0],1-range1[1],s_num), np.zeros(s_num), gaus3(np.linspace(range1[0],range1[1],s_num),*popt),color = 'r',alpha = 0.4)\n",
    "plt.fill_between(np.linspace(1-range2[0],1-range2[1],s_num), np.zeros(s_num), gaus3(np.linspace(range2[0],range2[1],s_num),*popt),color = 'r',alpha = 0.4)\n",
    "plt.fill_between(np.linspace(1-range3[0],1-range3[1],s_num), np.zeros(s_num), gaus3(np.linspace(range3[0],range3[1],s_num),*popt),color = 'r',alpha = 0.4)\n",
    "\n",
    "plt.xlim([0,1])\n",
    "plt.ylim([0,0.8])"
   ]
  },
  {
   "cell_type": "code",
   "execution_count": null,
   "metadata": {},
   "outputs": [],
   "source": [
    "hinge1_resi"
   ]
  },
  {
   "cell_type": "code",
   "execution_count": null,
   "metadata": {},
   "outputs": [],
   "source": [
    "hinge2_resi"
   ]
  },
  {
   "cell_type": "code",
   "execution_count": null,
   "metadata": {},
   "outputs": [],
   "source": [
    "hinge3_resi"
   ]
  },
  {
   "cell_type": "code",
   "execution_count": null,
   "metadata": {},
   "outputs": [],
   "source": [
    "mean_curvature = np.average(curvature_t_3, axis=(0,1))\n",
    "fluc_curvature = np.std(curvature_t_3, axis=(0,1))\n",
    "plt.figure(figsize=(12,8))\n",
    "plt.plot(np.linspace(0,1,s_num), mean_curvature)\n",
    "plt.fill_between(np.linspace(0,1,s_num), mean_curvature-fluc_curvature, mean_curvature+fluc_curvature,color = 'g',alpha = 0.2)\n",
    "#plt.plot(np.linspace(0,1,s_num), fluc_curvature/np.sqrt(800))\n",
    "#plt.plot([0,1],[0.12,0.12],'b--',lw=2)\n",
    "plt.xlabel('relative arc length')\n",
    "plt.ylabel('curvature (nm$^-1$)')\n",
    "plt.ylim([-0.1,1.0])"
   ]
  },
  {
   "cell_type": "code",
   "execution_count": null,
   "metadata": {},
   "outputs": [],
   "source": [
    "np.sqrt(-np.log(1/2)*2*0.04**2)"
   ]
  },
  {
   "cell_type": "code",
   "execution_count": null,
   "metadata": {},
   "outputs": [],
   "source": [
    "range1"
   ]
  },
  {
   "cell_type": "code",
   "execution_count": null,
   "metadata": {},
   "outputs": [],
   "source": [
    "hinge1_resi"
   ]
  },
  {
   "cell_type": "code",
   "execution_count": null,
   "metadata": {},
   "outputs": [],
   "source": [
    "hinge2_resi"
   ]
  },
  {
   "cell_type": "code",
   "execution_count": null,
   "metadata": {},
   "outputs": [],
   "source": [
    "hinge3_resi"
   ]
  },
  {
   "cell_type": "code",
   "execution_count": null,
   "metadata": {},
   "outputs": [],
   "source": [
    "resi_s_3 / s_t_3[:,-1]"
   ]
  },
  {
   "cell_type": "code",
   "execution_count": null,
   "metadata": {},
   "outputs": [],
   "source": [
    "# calculate the persistence length\n",
    "xyz_per = xyz_pro_fit_center[:,:1034-912,:]\n",
    "contour_length_t = np.zeros((np.shape(xyz_per)[0],np.shape(xyz_per)[1]))\n",
    "contour_length_t[:,1:] = np.cumsum(np.sqrt((xyz_per[:,1:,0]-xyz_per[:,:-1,0])**2 + (xyz_per[:,1:,1]-xyz_per[:,:-1,1])**2 + (xyz_per[:,1:,2]-xyz_per[:,:-1,2])**2), axis=1)"
   ]
  },
  {
   "cell_type": "code",
   "execution_count": null,
   "metadata": {},
   "outputs": [],
   "source": [
    "import numpy.linalg as la\n",
    "frame_start = 200\n",
    "cos_theta_record = np.zeros((np.shape(countour_length_t)[1]-2) * (np.shape(countour_length_t)[0]-frame_start))\n",
    "contour_record = np.zeros(np.shape(theta_record))\n",
    "count = 0\n",
    "\n",
    "for i in range(np.shape(countour_length_t)[0]-frame_start):\n",
    "    v1 = xyz_per[i+frame_start,1,:] - xyz_per[i+frame_start,0,:]\n",
    "    for j in range(np.shape(countour_length_t)[1]-2):\n",
    "        contour_record[count] = contour_length_t[i+frame_start,j+1]\n",
    "        v2 = xyz_per[i+frame_start,j+2,:] - xyz_per[i+frame_start,j+1,:]\n",
    "        cos_theta_record[count] = np.dot(v1,v2)/la.norm(v1)/la.norm(v2)\n",
    "        count = count + 1\n",
    "            "
   ]
  },
  {
   "cell_type": "code",
   "execution_count": null,
   "metadata": {},
   "outputs": [],
   "source": [
    "bin_number = 42\n",
    "bins = np.linspace(0,21,bin_number+1)\n",
    "cos_theta_bin = np.zeros((2,bin_number))\n",
    "digitized = np.digitize(contour_record, bins)\n",
    "for i in range(bin_number):\n",
    "    cos_theta_bin[0,i] = np.mean(cos_theta_record[digitized==i])\n",
    "    cos_theta_bin[0,i] = np.std(cos_theta_record[digitized==i])\n",
    "bins_ave = (bins[1:] + bins[:-1])/2   "
   ]
  },
  {
   "cell_type": "code",
   "execution_count": null,
   "metadata": {},
   "outputs": [],
   "source": [
    "plt.plot(bins_ave, -np.log(cos_theta_bin[0,:]))"
   ]
  },
  {
   "cell_type": "code",
   "execution_count": null,
   "metadata": {},
   "outputs": [],
   "source": [
    "j"
   ]
  },
  {
   "cell_type": "code",
   "execution_count": null,
   "metadata": {},
   "outputs": [],
   "source": []
  }
 ],
 "metadata": {
  "kernelspec": {
   "display_name": "Python 3",
   "language": "python",
   "name": "python3"
  },
  "language_info": {
   "codemirror_mode": {
    "name": "ipython",
    "version": 3
   },
   "file_extension": ".py",
   "mimetype": "text/x-python",
   "name": "python",
   "nbconvert_exporter": "python",
   "pygments_lexer": "ipython3",
   "version": "3.8.3"
  }
 },
 "nbformat": 4,
 "nbformat_minor": 4
}
