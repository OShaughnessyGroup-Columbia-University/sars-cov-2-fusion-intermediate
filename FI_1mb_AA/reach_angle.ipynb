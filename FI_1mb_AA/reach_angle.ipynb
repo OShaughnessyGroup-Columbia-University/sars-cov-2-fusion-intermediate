{
 "cells": [
  {
   "cell_type": "code",
   "execution_count": 1,
   "metadata": {},
   "outputs": [],
   "source": [
    "import mdtraj as md\n",
    "import numpy as np\n",
    "from matplotlib import pyplot as plt\n",
    "from mpl_toolkits import mplot3d\n",
    "import statsmodels.api as sm\n",
    "from matplotlib import animation\n",
    "from IPython.display import HTML\n",
    "import matplotlib\n",
    "from scipy.interpolate import interp1d\n",
    "from scipy import interpolate"
   ]
  },
  {
   "cell_type": "code",
   "execution_count": 2,
   "metadata": {},
   "outputs": [],
   "source": [
    "traj = md.load_xtc('405ns_mol.xtc', top = 'pro_mb.gro')\n",
    "xyz = traj.xyz\n",
    "top = traj.topology\n",
    "table, bonds = top.to_dataframe()"
   ]
  },
  {
   "cell_type": "code",
   "execution_count": 3,
   "metadata": {},
   "outputs": [],
   "source": [
    "table_pro = table[table.resName != 'DPPC']\n",
    "xyz_pro = xyz[:,table.resName != 'DPPC',:]"
   ]
  },
  {
   "cell_type": "code",
   "execution_count": 4,
   "metadata": {},
   "outputs": [
    {
     "name": "stderr",
     "output_type": "stream",
     "text": [
      "/Users/ruisu/opt/anaconda3/lib/python3.8/site-packages/pandas/core/indexing.py:966: SettingWithCopyWarning: \n",
      "A value is trying to be set on a copy of a slice from a DataFrame.\n",
      "Try using .loc[row_indexer,col_indexer] = value instead\n",
      "\n",
      "See the caveats in the documentation: https://pandas.pydata.org/pandas-docs/stable/user_guide/indexing.html#returning-a-view-versus-a-copy\n",
      "  self.obj[item] = s\n"
     ]
    }
   ],
   "source": [
    "start_serial = (table_pro[(table_pro.resSeq==1) & (table_pro.name=='N')].values)[:,0]\n",
    "end_serial = np.append((start_serial[1:]-1),table_pro.iloc[-1].serial)\n",
    "for i in range(6):\n",
    "    table_pro.loc[(start_serial[i]<=table_pro.serial) & (table_pro.serial<=end_serial[i]), 'chainID'] = i+1\n"
   ]
  },
  {
   "cell_type": "code",
   "execution_count": 5,
   "metadata": {},
   "outputs": [],
   "source": [
    "for i in range(3):\n",
    "    table_pro.loc[(start_serial[i]<=table_pro.serial) & (table_pro.serial<=end_serial[i]), 'resSeq'] += 815\n",
    "for i in range(3):\n",
    "    table_pro.loc[(start_serial[i+3]<=table_pro.serial) & (table_pro.serial<=end_serial[i+3]), 'resSeq'] += 685"
   ]
  },
  {
   "cell_type": "code",
   "execution_count": 6,
   "metadata": {},
   "outputs": [
    {
     "data": {
      "text/html": [
       "<div>\n",
       "<style scoped>\n",
       "    .dataframe tbody tr th:only-of-type {\n",
       "        vertical-align: middle;\n",
       "    }\n",
       "\n",
       "    .dataframe tbody tr th {\n",
       "        vertical-align: top;\n",
       "    }\n",
       "\n",
       "    .dataframe thead th {\n",
       "        text-align: right;\n",
       "    }\n",
       "</style>\n",
       "<table border=\"1\" class=\"dataframe\">\n",
       "  <thead>\n",
       "    <tr style=\"text-align: right;\">\n",
       "      <th></th>\n",
       "      <th>serial</th>\n",
       "      <th>name</th>\n",
       "      <th>element</th>\n",
       "      <th>resSeq</th>\n",
       "      <th>resName</th>\n",
       "      <th>chainID</th>\n",
       "      <th>segmentID</th>\n",
       "    </tr>\n",
       "  </thead>\n",
       "  <tbody>\n",
       "    <tr>\n",
       "      <th>0</th>\n",
       "      <td>1</td>\n",
       "      <td>N</td>\n",
       "      <td>N</td>\n",
       "      <td>816</td>\n",
       "      <td>SER</td>\n",
       "      <td>1</td>\n",
       "      <td></td>\n",
       "    </tr>\n",
       "    <tr>\n",
       "      <th>1</th>\n",
       "      <td>2</td>\n",
       "      <td>H</td>\n",
       "      <td>H</td>\n",
       "      <td>816</td>\n",
       "      <td>SER</td>\n",
       "      <td>1</td>\n",
       "      <td></td>\n",
       "    </tr>\n",
       "    <tr>\n",
       "      <th>2</th>\n",
       "      <td>3</td>\n",
       "      <td>H2</td>\n",
       "      <td>H</td>\n",
       "      <td>816</td>\n",
       "      <td>SER</td>\n",
       "      <td>1</td>\n",
       "      <td></td>\n",
       "    </tr>\n",
       "    <tr>\n",
       "      <th>3</th>\n",
       "      <td>4</td>\n",
       "      <td>H3</td>\n",
       "      <td>H</td>\n",
       "      <td>816</td>\n",
       "      <td>SER</td>\n",
       "      <td>1</td>\n",
       "      <td></td>\n",
       "    </tr>\n",
       "    <tr>\n",
       "      <th>4</th>\n",
       "      <td>5</td>\n",
       "      <td>CA</td>\n",
       "      <td>C</td>\n",
       "      <td>816</td>\n",
       "      <td>SER</td>\n",
       "      <td>1</td>\n",
       "      <td></td>\n",
       "    </tr>\n",
       "    <tr>\n",
       "      <th>...</th>\n",
       "      <td>...</td>\n",
       "      <td>...</td>\n",
       "      <td>...</td>\n",
       "      <td>...</td>\n",
       "      <td>...</td>\n",
       "      <td>...</td>\n",
       "      <td>...</td>\n",
       "    </tr>\n",
       "    <tr>\n",
       "      <th>27043</th>\n",
       "      <td>27044</td>\n",
       "      <td>HH21</td>\n",
       "      <td>H</td>\n",
       "      <td>815</td>\n",
       "      <td>ARG</td>\n",
       "      <td>6</td>\n",
       "      <td></td>\n",
       "    </tr>\n",
       "    <tr>\n",
       "      <th>27044</th>\n",
       "      <td>27045</td>\n",
       "      <td>HH22</td>\n",
       "      <td>H</td>\n",
       "      <td>815</td>\n",
       "      <td>ARG</td>\n",
       "      <td>6</td>\n",
       "      <td></td>\n",
       "    </tr>\n",
       "    <tr>\n",
       "      <th>27045</th>\n",
       "      <td>27046</td>\n",
       "      <td>C</td>\n",
       "      <td>C</td>\n",
       "      <td>815</td>\n",
       "      <td>ARG</td>\n",
       "      <td>6</td>\n",
       "      <td></td>\n",
       "    </tr>\n",
       "    <tr>\n",
       "      <th>27046</th>\n",
       "      <td>27047</td>\n",
       "      <td>O</td>\n",
       "      <td>O</td>\n",
       "      <td>815</td>\n",
       "      <td>ARG</td>\n",
       "      <td>6</td>\n",
       "      <td></td>\n",
       "    </tr>\n",
       "    <tr>\n",
       "      <th>27047</th>\n",
       "      <td>27048</td>\n",
       "      <td>OXT</td>\n",
       "      <td>O</td>\n",
       "      <td>815</td>\n",
       "      <td>ARG</td>\n",
       "      <td>6</td>\n",
       "      <td></td>\n",
       "    </tr>\n",
       "  </tbody>\n",
       "</table>\n",
       "<p>27048 rows × 7 columns</p>\n",
       "</div>"
      ],
      "text/plain": [
       "       serial  name element  resSeq resName  chainID segmentID\n",
       "0           1     N       N     816     SER        1          \n",
       "1           2     H       H     816     SER        1          \n",
       "2           3    H2       H     816     SER        1          \n",
       "3           4    H3       H     816     SER        1          \n",
       "4           5    CA       C     816     SER        1          \n",
       "...       ...   ...     ...     ...     ...      ...       ...\n",
       "27043   27044  HH21       H     815     ARG        6          \n",
       "27044   27045  HH22       H     815     ARG        6          \n",
       "27045   27046     C       C     815     ARG        6          \n",
       "27046   27047     O       O     815     ARG        6          \n",
       "27047   27048   OXT       O     815     ARG        6          \n",
       "\n",
       "[27048 rows x 7 columns]"
      ]
     },
     "execution_count": 6,
     "metadata": {},
     "output_type": "execute_result"
    }
   ],
   "source": [
    "table_pro"
   ]
  },
  {
   "cell_type": "code",
   "execution_count": 7,
   "metadata": {},
   "outputs": [],
   "source": [
    "def deal_pbc():\n",
    "    global xyz_pro, table_pro, traj\n",
    "    \n",
    "    chain1_center = np.mean(xyz_pro[:,table_pro.chainID==0,:],axis=1)\n",
    "    chain2_center = np.mean(xyz_pro[:,table_pro.chainID==1,:],axis=1)\n",
    "    chain3_center = np.mean(xyz_pro[:,table_pro.chainID==2,:],axis=1)\n",
    "\n",
    "    for j in range(3):\n",
    "        pbc_cross_1 = np.where(abs(chain1_center[:,j] - chain2_center[:,j])>4)\n",
    "        for i in range(len(pbc_cross_1[0])):\n",
    "            if(chain2_center[pbc_cross_1[0][i],j] - chain1_center[pbc_cross_1[0][i],j] > 0):\n",
    "                xyz_pro[pbc_cross_1[0][i],table_pro.chainID==1,j] = xyz_pro[pbc_cross_1[0][i],table_pro.chainID==1,j] - traj.unitcell_lengths[pbc_cross_1[0][i],j]\n",
    "            else:\n",
    "                xyz_pro[pbc_cross_1[0][i],table_pro.chainID==1,j] = xyz_pro[pbc_cross_1[0][i],table_pro.chainID==1,j] + traj.unitcell_lengths[pbc_cross_1[0][i],j]\n",
    "\n",
    "        pbc_cross_2 = np.where(abs(chain1_center[:,j] - chain3_center[:,j])>4)\n",
    "        for i in range(len(pbc_cross_2[0])):\n",
    "            if(chain3_center[pbc_cross_2[0][i],j] - chain1_center[pbc_cross_2[0][i],j] > 0):\n",
    "                xyz_pro[pbc_cross_2[0][i],table_pro.chainID==2,j] = xyz_pro[pbc_cross_2[0][i],table_pro.chainID==2,j] - traj.unitcell_lengths[pbc_cross_2[0][i],j]\n",
    "            else:\n",
    "                xyz_pro[pbc_cross_2[0][i],table_pro.chainID==2,j] = xyz_pro[pbc_cross_2[0][i],table_pro.chainID==2,j] + traj.unitcell_lengths[pbc_cross_2[0][i],j]\n",
    "    \n",
    "    return xyz_pro\n"
   ]
  },
  {
   "cell_type": "code",
   "execution_count": 8,
   "metadata": {},
   "outputs": [],
   "source": [
    "def read_traj_aa():\n",
    "    \n",
    "    #global traj, xyz_pro, table_pro, table\n",
    "    #xyz_pro = deal_pbc()\n",
    "    \n",
    "    loc_start = 0\n",
    "    \n",
    "    xyz_fp = xyz_pro[loc_start:,(table_pro.resSeq==816)&(table_pro.name=='CA'),:]\n",
    "    xyz_tm = np.mean(xyz_pro[loc_start:,(table_pro.resSeq==1214)&(table_pro.name=='CA'),:],axis=1)\n",
    "    xyz_tm2 = np.mean(xyz_pro[loc_start:,(table_pro.resSeq==1237)&(table_pro.name=='CA'),:],axis=1)\n",
    "    \n",
    "    reach = (np.linalg.norm((xyz_fp - xyz_tm[:,np.newaxis,:]), axis=2)).ravel()\n",
    "    v1 = xyz_tm - xyz_tm2\n",
    "    v2 = xyz_fp - xyz_tm2[:,np.newaxis,:]\n",
    "    \n",
    "    angle = np.zeros(np.shape(reach))\n",
    "    count = 0\n",
    "    for i in range(np.shape(v1)[0]):\n",
    "        for j in range(3):\n",
    "            v_fp = v2[i,j,:]\n",
    "            v_tm = v1[i,:]\n",
    "            angle[count] = np.arccos(np.dot(v_fp,v_tm)/np.linalg.norm(v_fp)/np.linalg.norm(v_tm)) / np.pi * 180\n",
    "            count = count + 1\n",
    "    \n",
    "    pos_temp = xyz_fp - xyz_tm[:,np.newaxis,:]\n",
    "    pos = pos_temp.reshape((np.shape(pos_temp)[0]*np.shape(pos_temp)[1],3))\n",
    "    \n",
    "    return reach, angle, pos"
   ]
  },
  {
   "cell_type": "code",
   "execution_count": 9,
   "metadata": {},
   "outputs": [],
   "source": [
    "reach_aa, angle_aa, pos_aa  = read_traj_aa()"
   ]
  },
  {
   "cell_type": "code",
   "execution_count": 11,
   "metadata": {},
   "outputs": [],
   "source": [
    "plt.rcParams['font.family'] = \"Helvetica\"\n",
    "plt.rcParams['axes.linewidth'] = 2\n",
    "plt.rcParams['axes.labelsize'] = 20\n",
    "plt.rcParams['xtick.labelsize'] = 24\n",
    "plt.rcParams['ytick.labelsize'] = 24\n",
    "plt.rcParams['xtick.major.width'] = 2\n",
    "plt.rcParams['ytick.major.width'] = 2"
   ]
  },
  {
   "cell_type": "code",
   "execution_count": 12,
   "metadata": {},
   "outputs": [
    {
     "data": {
      "text/plain": [
       "Text(0, 0.5, 'pdf')"
      ]
     },
     "execution_count": 12,
     "metadata": {},
     "output_type": "execute_result"
    },
    {
     "data": {
      "image/png": "[encoded data removed]",
      "text/plain": [
       "<Figure size 432x288 with 1 Axes>"
      ]
     },
     "metadata": {
      "needs_background": "light"
     },
     "output_type": "display_data"
    }
   ],
   "source": [
    "n, bins, patches = plt.hist(angle_aa.ravel(),bins=np.linspace(0,90,21), density=True, facecolor='tab:green',edgecolor='k',linewidth=2)\n",
    "plt.xlabel('Angle (degrees)')\n",
    "plt.ylabel('pdf')"
   ]
  },
  {
   "cell_type": "code",
   "execution_count": 105,
   "metadata": {},
   "outputs": [
    {
     "data": {
      "text/plain": [
       "[]"
      ]
     },
     "execution_count": 105,
     "metadata": {},
     "output_type": "execute_result"
    },
    {
     "data": {
      "image/png": "[encoded data removed]",
      "text/plain": [
       "<Figure size 576x576 with 3 Axes>"
      ]
     },
     "metadata": {
      "needs_background": "light"
     },
     "output_type": "display_data"
    }
   ],
   "source": [
    "fig = plt.figure(figsize=(8,8))\n",
    "from matplotlib.gridspec import GridSpec\n",
    "gs = GridSpec(4,4)\n",
    "\n",
    "scatter_axes = fig.add_subplot(gs[1:4,0:3])\n",
    "x_hist_axes = fig.add_subplot(gs[0,0:3])\n",
    "y_hist_axes = fig.add_subplot(gs[1:4,3])\n",
    "\n",
    "\n",
    "\n",
    "scatter_axes.plot(angle_aa.ravel(), reach_aa.ravel(), 'o',ms=2)\n",
    "scatter_axes.set_xlim(0,90)\n",
    "scatter_axes.set_ylim(20,40)\n",
    "scatter_axes.set_xlabel('angle (degree)')\n",
    "scatter_axes.set_ylabel('reach (nm)')\n",
    "\n",
    "n, bins, patches = x_hist_axes.hist(angle_aa.ravel(),bins=np.linspace(0,90,21), density=True, facecolor='tab:green',edgecolor='k',linewidth=2)\n",
    "x_hist_axes.set_xticklabels([])\n",
    "\n",
    "\n",
    "n, bins, patches = y_hist_axes.hist(reach_aa.ravel(),bins=np.linspace(20,40,21), density=True, facecolor='tab:orange',edgecolor='k', orientation='horizontal',linewidth=2)\n",
    "y_hist_axes.set_yticklabels([])"
   ]
  },
  {
   "cell_type": "code",
   "execution_count": 108,
   "metadata": {},
   "outputs": [
    {
     "data": {
      "text/plain": [
       "[<matplotlib.lines.Line2D at 0x7fd4be8fd490>]"
      ]
     },
     "execution_count": 108,
     "metadata": {},
     "output_type": "execute_result"
    },
    {
     "data": {
      "image/png": "[encoded data removed]",
      "text/plain": [
       "<Figure size 432x288 with 1 Axes>"
      ]
     },
     "metadata": {
      "needs_background": "light"
     },
     "output_type": "display_data"
    }
   ],
   "source": [
    "plt.plot(pos_aa[:,2])"
   ]
  },
  {
   "cell_type": "code",
   "execution_count": 102,
   "metadata": {},
   "outputs": [
    {
     "data": {
      "text/plain": [
       "[<matplotlib.lines.Line2D at 0x7fd4bd9ac1c0>]"
      ]
     },
     "execution_count": 102,
     "metadata": {},
     "output_type": "execute_result"
    },
    {
     "data": {
      "image/png": "[encoded data removed]",
      "text/plain": [
       "<Figure size 432x288 with 1 Axes>"
      ]
     },
     "metadata": {
      "needs_background": "light"
     },
     "output_type": "display_data"
    }
   ],
   "source": []
  },
  {
   "cell_type": "code",
   "execution_count": null,
   "metadata": {},
   "outputs": [],
   "source": []
  }
 ],
 "metadata": {
  "kernelspec": {
   "display_name": "Python 3",
   "language": "python",
   "name": "python3"
  },
  "language_info": {
   "codemirror_mode": {
    "name": "ipython",
    "version": 3
   },
   "file_extension": ".py",
   "mimetype": "text/x-python",
   "name": "python",
   "nbconvert_exporter": "python",
   "pygments_lexer": "ipython3",
   "version": "3.8.3"
  }
 },
 "nbformat": 4,
 "nbformat_minor": 4
}
