{
 "cells": [
  {
   "cell_type": "code",
   "execution_count": 1,
   "metadata": {},
   "outputs": [],
   "source": [
    "import mdtraj as md\n",
    "import numpy as np\n",
    "from matplotlib import pyplot as plt\n",
    "from mpl_toolkits import mplot3d\n",
    "import statsmodels.api as sm\n",
    "from matplotlib import animation\n",
    "from IPython.display import HTML\n",
    "import matplotlib\n",
    "from scipy.interpolate import interp1d\n",
    "from scipy import interpolate\n",
    "matplotlib.rcParams['animation.embed_limit'] = 2**128"
   ]
  },
  {
   "cell_type": "code",
   "execution_count": 2,
   "metadata": {},
   "outputs": [],
   "source": [
    "plt.rcParams['font.family'] = \"Helvetica\"\n",
    "plt.rcParams['axes.linewidth'] = 2\n",
    "plt.rcParams['axes.labelsize'] = 20\n",
    "plt.rcParams['xtick.labelsize'] = 24\n",
    "plt.rcParams['ytick.labelsize'] = 24\n",
    "plt.rcParams['xtick.major.width'] = 2\n",
    "plt.rcParams['ytick.major.width'] = 2"
   ]
  },
  {
   "cell_type": "code",
   "execution_count": 3,
   "metadata": {},
   "outputs": [],
   "source": [
    "def deal_pbc():\n",
    "    global xyz_pro, table_pro, traj\n",
    "    \n",
    "    chain1_center = np.mean(xyz_pro[:,table_pro.chainID==0,:],axis=1)\n",
    "    chain2_center = np.mean(xyz_pro[:,table_pro.chainID==1,:],axis=1)\n",
    "    chain3_center = np.mean(xyz_pro[:,table_pro.chainID==2,:],axis=1)\n",
    "\n",
    "    for j in range(3):\n",
    "        pbc_cross_1 = np.where(abs(chain1_center[:,j] - chain2_center[:,j])>4)\n",
    "        for i in range(len(pbc_cross_1[0])):\n",
    "            if(chain2_center[pbc_cross_1[0][i],j] - chain1_center[pbc_cross_1[0][i],j] > 0):\n",
    "                xyz_pro[pbc_cross_1[0][i],table_pro.chainID==1,j] = xyz_pro[pbc_cross_1[0][i],table_pro.chainID==1,j] - traj.unitcell_lengths[pbc_cross_1[0][i],j]\n",
    "            else:\n",
    "                xyz_pro[pbc_cross_1[0][i],table_pro.chainID==1,j] = xyz_pro[pbc_cross_1[0][i],table_pro.chainID==1,j] + traj.unitcell_lengths[pbc_cross_1[0][i],j]\n",
    "\n",
    "        pbc_cross_2 = np.where(abs(chain1_center[:,j] - chain3_center[:,j])>4)\n",
    "        for i in range(len(pbc_cross_2[0])):\n",
    "            if(chain3_center[pbc_cross_2[0][i],j] - chain1_center[pbc_cross_2[0][i],j] > 0):\n",
    "                xyz_pro[pbc_cross_2[0][i],table_pro.chainID==2,j] = xyz_pro[pbc_cross_2[0][i],table_pro.chainID==2,j] - traj.unitcell_lengths[pbc_cross_2[0][i],j]\n",
    "            else:\n",
    "                xyz_pro[pbc_cross_2[0][i],table_pro.chainID==2,j] = xyz_pro[pbc_cross_2[0][i],table_pro.chainID==2,j] + traj.unitcell_lengths[pbc_cross_2[0][i],j]\n",
    "    \n",
    "    return xyz_pro\n",
    "\n",
    "    "
   ]
  },
  {
   "cell_type": "code",
   "execution_count": 4,
   "metadata": {},
   "outputs": [],
   "source": [
    "traj = md.load_xtc('405ns_mol_pro_10.xtc', top = 'pro.gro')\n",
    "xyz = traj.xyz\n",
    "top = traj.topology\n",
    "table, bonds = top.to_dataframe()"
   ]
  },
  {
   "cell_type": "code",
   "execution_count": 5,
   "metadata": {},
   "outputs": [],
   "source": [
    "xyz_pro = xyz[:,table.element=='C',:]\n",
    "table_pro = table[table.element=='C']\n"
   ]
  },
  {
   "cell_type": "code",
   "execution_count": 6,
   "metadata": {},
   "outputs": [
    {
     "data": {
      "text/html": [
       "<div>\n",
       "<style scoped>\n",
       "    .dataframe tbody tr th:only-of-type {\n",
       "        vertical-align: middle;\n",
       "    }\n",
       "\n",
       "    .dataframe tbody tr th {\n",
       "        vertical-align: top;\n",
       "    }\n",
       "\n",
       "    .dataframe thead th {\n",
       "        text-align: right;\n",
       "    }\n",
       "</style>\n",
       "<table border=\"1\" class=\"dataframe\">\n",
       "  <thead>\n",
       "    <tr style=\"text-align: right;\">\n",
       "      <th></th>\n",
       "      <th>serial</th>\n",
       "      <th>name</th>\n",
       "      <th>element</th>\n",
       "      <th>resSeq</th>\n",
       "      <th>resName</th>\n",
       "      <th>chainID</th>\n",
       "      <th>segmentID</th>\n",
       "    </tr>\n",
       "  </thead>\n",
       "  <tbody>\n",
       "    <tr>\n",
       "      <th>4</th>\n",
       "      <td>5</td>\n",
       "      <td>CA</td>\n",
       "      <td>C</td>\n",
       "      <td>1</td>\n",
       "      <td>SER</td>\n",
       "      <td>0</td>\n",
       "      <td></td>\n",
       "    </tr>\n",
       "    <tr>\n",
       "      <th>6</th>\n",
       "      <td>7</td>\n",
       "      <td>CB</td>\n",
       "      <td>C</td>\n",
       "      <td>1</td>\n",
       "      <td>SER</td>\n",
       "      <td>0</td>\n",
       "      <td></td>\n",
       "    </tr>\n",
       "    <tr>\n",
       "      <th>11</th>\n",
       "      <td>12</td>\n",
       "      <td>C</td>\n",
       "      <td>C</td>\n",
       "      <td>1</td>\n",
       "      <td>SER</td>\n",
       "      <td>0</td>\n",
       "      <td></td>\n",
       "    </tr>\n",
       "    <tr>\n",
       "      <th>15</th>\n",
       "      <td>16</td>\n",
       "      <td>CA</td>\n",
       "      <td>C</td>\n",
       "      <td>2</td>\n",
       "      <td>PHE</td>\n",
       "      <td>0</td>\n",
       "      <td></td>\n",
       "    </tr>\n",
       "    <tr>\n",
       "      <th>17</th>\n",
       "      <td>18</td>\n",
       "      <td>CB</td>\n",
       "      <td>C</td>\n",
       "      <td>2</td>\n",
       "      <td>PHE</td>\n",
       "      <td>0</td>\n",
       "      <td></td>\n",
       "    </tr>\n",
       "    <tr>\n",
       "      <th>...</th>\n",
       "      <td>...</td>\n",
       "      <td>...</td>\n",
       "      <td>...</td>\n",
       "      <td>...</td>\n",
       "      <td>...</td>\n",
       "      <td>...</td>\n",
       "      <td>...</td>\n",
       "    </tr>\n",
       "    <tr>\n",
       "      <th>27027</th>\n",
       "      <td>27028</td>\n",
       "      <td>CB</td>\n",
       "      <td>C</td>\n",
       "      <td>130</td>\n",
       "      <td>ARG</td>\n",
       "      <td>0</td>\n",
       "      <td></td>\n",
       "    </tr>\n",
       "    <tr>\n",
       "      <th>27030</th>\n",
       "      <td>27031</td>\n",
       "      <td>CG</td>\n",
       "      <td>C</td>\n",
       "      <td>130</td>\n",
       "      <td>ARG</td>\n",
       "      <td>0</td>\n",
       "      <td></td>\n",
       "    </tr>\n",
       "    <tr>\n",
       "      <th>27033</th>\n",
       "      <td>27034</td>\n",
       "      <td>CD</td>\n",
       "      <td>C</td>\n",
       "      <td>130</td>\n",
       "      <td>ARG</td>\n",
       "      <td>0</td>\n",
       "      <td></td>\n",
       "    </tr>\n",
       "    <tr>\n",
       "      <th>27038</th>\n",
       "      <td>27039</td>\n",
       "      <td>CZ</td>\n",
       "      <td>C</td>\n",
       "      <td>130</td>\n",
       "      <td>ARG</td>\n",
       "      <td>0</td>\n",
       "      <td></td>\n",
       "    </tr>\n",
       "    <tr>\n",
       "      <th>27045</th>\n",
       "      <td>27046</td>\n",
       "      <td>C</td>\n",
       "      <td>C</td>\n",
       "      <td>130</td>\n",
       "      <td>ARG</td>\n",
       "      <td>0</td>\n",
       "      <td></td>\n",
       "    </tr>\n",
       "  </tbody>\n",
       "</table>\n",
       "<p>8610 rows × 7 columns</p>\n",
       "</div>"
      ],
      "text/plain": [
       "       serial name element  resSeq resName  chainID segmentID\n",
       "4           5   CA       C       1     SER        0          \n",
       "6           7   CB       C       1     SER        0          \n",
       "11         12    C       C       1     SER        0          \n",
       "15         16   CA       C       2     PHE        0          \n",
       "17         18   CB       C       2     PHE        0          \n",
       "...       ...  ...     ...     ...     ...      ...       ...\n",
       "27027   27028   CB       C     130     ARG        0          \n",
       "27030   27031   CG       C     130     ARG        0          \n",
       "27033   27034   CD       C     130     ARG        0          \n",
       "27038   27039   CZ       C     130     ARG        0          \n",
       "27045   27046    C       C     130     ARG        0          \n",
       "\n",
       "[8610 rows x 7 columns]"
      ]
     },
     "execution_count": 6,
     "metadata": {},
     "output_type": "execute_result"
    }
   ],
   "source": [
    "table_pro"
   ]
  },
  {
   "cell_type": "code",
   "execution_count": 7,
   "metadata": {},
   "outputs": [
    {
     "name": "stderr",
     "output_type": "stream",
     "text": [
      "/Users/ruisu/opt/anaconda3/lib/python3.8/site-packages/pandas/core/indexing.py:966: SettingWithCopyWarning: \n",
      "A value is trying to be set on a copy of a slice from a DataFrame.\n",
      "Try using .loc[row_indexer,col_indexer] = value instead\n",
      "\n",
      "See the caveats in the documentation: https://pandas.pydata.org/pandas-docs/stable/user_guide/indexing.html#returning-a-view-versus-a-copy\n",
      "  self.obj[item] = s\n"
     ]
    }
   ],
   "source": [
    "start_serial = (table_pro[(table_pro.resSeq==1)&(table_pro.name=='CA')].values)[:,0]\n",
    "end_serial = np.append((start_serial[1:]-1),table_pro.iloc[-1].serial)\n",
    "for i in range(6):\n",
    "    table_pro.loc[(start_serial[i]<=table_pro.serial) & (table_pro.serial<=end_serial[i]), 'chainID'] = i+1\n",
    "for i in range(3):\n",
    "    table_pro.loc[(start_serial[i]<=table_pro.serial) & (table_pro.serial<=end_serial[i]), 'resSeq'] += 815\n",
    "for i in range(3):\n",
    "    table_pro.loc[(start_serial[i+3]<=table_pro.serial) & (table_pro.serial<=end_serial[i+3]), 'resSeq'] += 685"
   ]
  },
  {
   "cell_type": "code",
   "execution_count": 8,
   "metadata": {},
   "outputs": [
    {
     "data": {
      "text/html": [
       "<div>\n",
       "<style scoped>\n",
       "    .dataframe tbody tr th:only-of-type {\n",
       "        vertical-align: middle;\n",
       "    }\n",
       "\n",
       "    .dataframe tbody tr th {\n",
       "        vertical-align: top;\n",
       "    }\n",
       "\n",
       "    .dataframe thead th {\n",
       "        text-align: right;\n",
       "    }\n",
       "</style>\n",
       "<table border=\"1\" class=\"dataframe\">\n",
       "  <thead>\n",
       "    <tr style=\"text-align: right;\">\n",
       "      <th></th>\n",
       "      <th>serial</th>\n",
       "      <th>name</th>\n",
       "      <th>element</th>\n",
       "      <th>resSeq</th>\n",
       "      <th>resName</th>\n",
       "      <th>chainID</th>\n",
       "      <th>segmentID</th>\n",
       "    </tr>\n",
       "  </thead>\n",
       "  <tbody>\n",
       "    <tr>\n",
       "      <th>4</th>\n",
       "      <td>5</td>\n",
       "      <td>CA</td>\n",
       "      <td>C</td>\n",
       "      <td>816</td>\n",
       "      <td>SER</td>\n",
       "      <td>1</td>\n",
       "      <td></td>\n",
       "    </tr>\n",
       "    <tr>\n",
       "      <th>6</th>\n",
       "      <td>7</td>\n",
       "      <td>CB</td>\n",
       "      <td>C</td>\n",
       "      <td>816</td>\n",
       "      <td>SER</td>\n",
       "      <td>1</td>\n",
       "      <td></td>\n",
       "    </tr>\n",
       "    <tr>\n",
       "      <th>11</th>\n",
       "      <td>12</td>\n",
       "      <td>C</td>\n",
       "      <td>C</td>\n",
       "      <td>816</td>\n",
       "      <td>SER</td>\n",
       "      <td>1</td>\n",
       "      <td></td>\n",
       "    </tr>\n",
       "    <tr>\n",
       "      <th>15</th>\n",
       "      <td>16</td>\n",
       "      <td>CA</td>\n",
       "      <td>C</td>\n",
       "      <td>817</td>\n",
       "      <td>PHE</td>\n",
       "      <td>1</td>\n",
       "      <td></td>\n",
       "    </tr>\n",
       "    <tr>\n",
       "      <th>17</th>\n",
       "      <td>18</td>\n",
       "      <td>CB</td>\n",
       "      <td>C</td>\n",
       "      <td>817</td>\n",
       "      <td>PHE</td>\n",
       "      <td>1</td>\n",
       "      <td></td>\n",
       "    </tr>\n",
       "    <tr>\n",
       "      <th>...</th>\n",
       "      <td>...</td>\n",
       "      <td>...</td>\n",
       "      <td>...</td>\n",
       "      <td>...</td>\n",
       "      <td>...</td>\n",
       "      <td>...</td>\n",
       "      <td>...</td>\n",
       "    </tr>\n",
       "    <tr>\n",
       "      <th>27027</th>\n",
       "      <td>27028</td>\n",
       "      <td>CB</td>\n",
       "      <td>C</td>\n",
       "      <td>815</td>\n",
       "      <td>ARG</td>\n",
       "      <td>6</td>\n",
       "      <td></td>\n",
       "    </tr>\n",
       "    <tr>\n",
       "      <th>27030</th>\n",
       "      <td>27031</td>\n",
       "      <td>CG</td>\n",
       "      <td>C</td>\n",
       "      <td>815</td>\n",
       "      <td>ARG</td>\n",
       "      <td>6</td>\n",
       "      <td></td>\n",
       "    </tr>\n",
       "    <tr>\n",
       "      <th>27033</th>\n",
       "      <td>27034</td>\n",
       "      <td>CD</td>\n",
       "      <td>C</td>\n",
       "      <td>815</td>\n",
       "      <td>ARG</td>\n",
       "      <td>6</td>\n",
       "      <td></td>\n",
       "    </tr>\n",
       "    <tr>\n",
       "      <th>27038</th>\n",
       "      <td>27039</td>\n",
       "      <td>CZ</td>\n",
       "      <td>C</td>\n",
       "      <td>815</td>\n",
       "      <td>ARG</td>\n",
       "      <td>6</td>\n",
       "      <td></td>\n",
       "    </tr>\n",
       "    <tr>\n",
       "      <th>27045</th>\n",
       "      <td>27046</td>\n",
       "      <td>C</td>\n",
       "      <td>C</td>\n",
       "      <td>815</td>\n",
       "      <td>ARG</td>\n",
       "      <td>6</td>\n",
       "      <td></td>\n",
       "    </tr>\n",
       "  </tbody>\n",
       "</table>\n",
       "<p>8610 rows × 7 columns</p>\n",
       "</div>"
      ],
      "text/plain": [
       "       serial name element  resSeq resName  chainID segmentID\n",
       "4           5   CA       C     816     SER        1          \n",
       "6           7   CB       C     816     SER        1          \n",
       "11         12    C       C     816     SER        1          \n",
       "15         16   CA       C     817     PHE        1          \n",
       "17         18   CB       C     817     PHE        1          \n",
       "...       ...  ...     ...     ...     ...      ...       ...\n",
       "27027   27028   CB       C     815     ARG        6          \n",
       "27030   27031   CG       C     815     ARG        6          \n",
       "27033   27034   CD       C     815     ARG        6          \n",
       "27038   27039   CZ       C     815     ARG        6          \n",
       "27045   27046    C       C     815     ARG        6          \n",
       "\n",
       "[8610 rows x 7 columns]"
      ]
     },
     "execution_count": 8,
     "metadata": {},
     "output_type": "execute_result"
    }
   ],
   "source": [
    "table_pro"
   ]
  },
  {
   "cell_type": "code",
   "execution_count": 45,
   "metadata": {},
   "outputs": [],
   "source": [
    "start_id, end_id = 984, 1033"
   ]
  },
  {
   "cell_type": "code",
   "execution_count": 64,
   "metadata": {},
   "outputs": [],
   "source": [
    "loc_start = 300\n",
    "bb_pos = np.zeros((407-loc_start, end_id-start_id+1, 3))\n",
    "\n",
    "for i in range(start_id, end_id+1)[::-1]:\n",
    "    bb_pos[:,i-start_id,:] = np.mean(xyz_pro[loc_start:,(table_pro.resSeq==i),:], axis=1)\n",
    "N_conv = 7\n",
    "bb_pos_smooth = np.zeros((407-loc_start, end_id-start_id+1-N_conv+1, 3))\n",
    "\n",
    "for i in range(len(bb_pos)):\n",
    "    bb_pos_smooth[i,:,0] = np.convolve(bb_pos[i,:,0], np.ones(N_conv)/N_conv, mode='valid')\n",
    "    bb_pos_smooth[i,:,1] = np.convolve(bb_pos[i,:,1], np.ones(N_conv)/N_conv, mode='valid')\n",
    "    bb_pos_smooth[i,:,2] = np.convolve(bb_pos[i,:,2], np.ones(N_conv)/N_conv, mode='valid')"
   ]
  },
  {
   "cell_type": "code",
   "execution_count": 65,
   "metadata": {},
   "outputs": [
    {
     "data": {
      "text/plain": [
       "(3.4703432151249474, 12.209612539836337, 34.18161697387694, 38.475595419747485)"
      ]
     },
     "execution_count": 65,
     "metadata": {},
     "output_type": "execute_result"
    },
    {
     "data": {
      "image/png": "[encoded data removed]",
      "text/plain": [
       "<Figure size 432x288 with 1 Axes>"
      ]
     },
     "metadata": {
      "needs_background": "light"
     },
     "output_type": "display_data"
    }
   ],
   "source": [
    "i = 50\n",
    "\n",
    "plt.plot(bb_pos_smooth[i,:,1],bb_pos_smooth[i,:,2])\n",
    "#plt.plot(xyz[loc_start+i,:,0], xyz[loc_start+i,:,2], 'go')\n",
    "plt.plot(bb_pos_smooth[i,:,0],bb_pos_smooth[i,:,2])\n",
    "plt.axis('equal')"
   ]
  },
  {
   "cell_type": "code",
   "execution_count": 66,
   "metadata": {},
   "outputs": [
    {
     "data": {
      "text/plain": [
       "(107, 44, 3)"
      ]
     },
     "execution_count": 66,
     "metadata": {},
     "output_type": "execute_result"
    }
   ],
   "source": [
    "np.shape(bb_pos_smooth)"
   ]
  },
  {
   "cell_type": "code",
   "execution_count": 67,
   "metadata": {},
   "outputs": [],
   "source": [
    "bb_arclength = np.zeros((407-loc_start, end_id-start_id+1-N_conv+1))\n",
    "bb_arclength[:,1:] = np.sqrt(np.sum((bb_pos_smooth[:,1:,:] - bb_pos_smooth[:,:-1,:])**2, axis=2))\n",
    "bb_arclength = np.cumsum(bb_arclength,axis=1)"
   ]
  },
  {
   "cell_type": "code",
   "execution_count": 68,
   "metadata": {},
   "outputs": [],
   "source": [
    "bb_orientation = bb_pos_smooth[:,1:,:] - bb_pos_smooth[:,:-1,:]\n",
    "bb_orientation /= np.linalg.norm(bb_orientation, axis=2)[:,:,np.newaxis]\n",
    "bb_cos = np.zeros((407-loc_start, end_id-start_id+1-N_conv))\n",
    "for i in range(len(bb_orientation)):\n",
    "    bb_cos[i,:] = np.dot(bb_orientation[i,:,:], bb_orientation[i,0,:])"
   ]
  },
  {
   "cell_type": "code",
   "execution_count": 69,
   "metadata": {},
   "outputs": [
    {
     "data": {
      "text/plain": [
       "[<matplotlib.lines.Line2D at 0x7fb26e6d0790>]"
      ]
     },
     "execution_count": 69,
     "metadata": {},
     "output_type": "execute_result"
    },
    {
     "data": {
      "image/png": "[encoded data removed]",
      "text/plain": [
       "<Figure size 432x288 with 1 Axes>"
      ]
     },
     "metadata": {
      "needs_background": "light"
     },
     "output_type": "display_data"
    }
   ],
   "source": [
    "plt.plot(bb_arclength[1:,:-1].ravel(), bb_cos[1:,:].ravel(),'ro')"
   ]
  },
  {
   "cell_type": "code",
   "execution_count": 70,
   "metadata": {},
   "outputs": [],
   "source": [
    "bins = np.linspace(0,np.max(bb_arclength[1:,:-1]),21)\n",
    "bin_indices = np.digitize(bb_arclength[1:,:-1].ravel(), bins)\n",
    "cos_mean = np.zeros(len(bins)-1)\n",
    "arc_mean = np.zeros(len(bins)-1)\n",
    "cos_std = np.zeros(len(bins)-1)\n",
    "arc_std = np.zeros(len(bins)-1)\n",
    "for i in range(len(cos_mean)):\n",
    "    arc_mean[i] = np.mean(bb_arclength[1:,:-1].ravel()[bin_indices==i+1])\n",
    "    arc_std[i] = np.std(bb_arclength[1:,:-1].ravel()[bin_indices==i+1])\n",
    "    cos_mean[i] = -np.log(np.mean(bb_cos[1:,:].ravel()[bin_indices==i+1]))\n",
    "    cos_std[i] = np.std(-np.log(bb_cos[1:,:].ravel()[bin_indices==i+1]))"
   ]
  },
  {
   "cell_type": "code",
   "execution_count": 71,
   "metadata": {},
   "outputs": [
    {
     "name": "stdout",
     "output_type": "stream",
     "text": [
      "persistence length: 399.6 ± 84.7 nm\n"
     ]
    }
   ],
   "source": [
    "from scipy.optimize import curve_fit\n",
    "params, confint = curve_fit(lambda t,b: t*b,  arc_mean[:11], cos_mean[:11])\n",
    "from scipy.stats.distributions import t as student_t\n",
    "alpha = 0.05 # 95% confidence interval = 100*(1-alpha)\n",
    "n = len(arc_mean)    # number of data points\n",
    "p = len(params) # number of parameters\n",
    "dof = max(0, n - p) # number of degrees of freedom\n",
    "# student-t value for the dof and confidence level\n",
    "tval = student_t.ppf(1.0-alpha/2., dof) \n",
    "conf95 = -1/2*(1/(-params[0] + np.sqrt((np.diag(confint))[0])*tval) -  1/(-params[0] - np.sqrt((np.diag(confint))[0])*tval))\n",
    "print('persistence length: %.1f \\u00B1 %.1f nm'%(1/params[0], conf95))"
   ]
  },
  {
   "cell_type": "code",
   "execution_count": 72,
   "metadata": {},
   "outputs": [
    {
     "data": {
      "text/plain": [
       "(0.0, 0.1)"
      ]
     },
     "execution_count": 72,
     "metadata": {},
     "output_type": "execute_result"
    },
    {
     "data": {
      "image/png": "[encoded data removed]",
      "text/plain": [
       "<Figure size 720x432 with 1 Axes>"
      ]
     },
     "metadata": {
      "needs_background": "light"
     },
     "output_type": "display_data"
    }
   ],
   "source": [
    "plt.figure(figsize=(10,6))\n",
    "plt.errorbar(arc_mean, cos_mean, xerr=arc_std, yerr=cos_std, marker='o', elinewidth=3, ms=10)\n",
    "plt.plot([0,6],np.array([0,6])*params[0],'r--')\n",
    "plt.xlabel('s (nm)')\n",
    "plt.ylabel('-log(<cos(\\u03B8)>)')\n",
    "plt.title('All-atom', fontsize=20)\n",
    "plt.ylim([0,0.1])"
   ]
  },
  {
   "cell_type": "code",
   "execution_count": null,
   "metadata": {},
   "outputs": [],
   "source": [
    "from scipy.optimize import curve_fit\n",
    "params, confint = curve_fit(lambda t,b: t*b,  arc_mean, cos_mean)\n",
    "1/params"
   ]
  },
  {
   "cell_type": "code",
   "execution_count": null,
   "metadata": {},
   "outputs": [],
   "source": []
  }
 ],
 "metadata": {
  "kernelspec": {
   "display_name": "Python 3",
   "language": "python",
   "name": "python3"
  },
  "language_info": {
   "codemirror_mode": {
    "name": "ipython",
    "version": 3
   },
   "file_extension": ".py",
   "mimetype": "text/x-python",
   "name": "python",
   "nbconvert_exporter": "python",
   "pygments_lexer": "ipython3",
   "version": "3.8.3"
  }
 },
 "nbformat": 4,
 "nbformat_minor": 4
}
